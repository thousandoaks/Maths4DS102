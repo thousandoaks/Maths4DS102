{
  "nbformat": 4,
  "nbformat_minor": 0,
  "metadata": {
    "colab": {
      "provenance": [],
      "authorship_tag": "ABX9TyMavixUKl1WmaM0/Ld4ciij"
    },
    "kernelspec": {
      "name": "python3",
      "display_name": "Python 3"
    },
    "language_info": {
      "name": "python"
    }
  },
  "cells": [
    {
      "cell_type": "markdown",
      "source": [
        "# The Multiple Regression Model (Second Example)"
      ],
      "metadata": {
        "id": "9Koy8IdCva-p"
      }
    },
    {
      "cell_type": "markdown",
      "source": [
        "### Intro and objectives\n",
        "\n",
        "\n",
        "### In this lab you will learn:\n",
        "1. examples of multiple regression models.\n",
        "2. how to fit multiple regression models in Python.\n",
        "\n",
        "\n",
        "## What I hope you'll get out of this lab\n",
        "* The feeling that you'll \"know where to start\" when you need to fit a multiple regression model.\n",
        "* Worked Examples of multiple regression models\n",
        "* How to interpret the results obtained"
      ],
      "metadata": {
        "id": "DiOUGkzJvkIq"
      }
    },
    {
      "cell_type": "code",
      "execution_count": 19,
      "metadata": {
        "colab": {
          "base_uri": "https://localhost:8080/"
        },
        "id": "31p3EWLtvZq_",
        "outputId": "72c02c23-e01a-457b-e1a4-b44a1b8af5f7"
      },
      "outputs": [
        {
          "output_type": "stream",
          "name": "stdout",
          "text": [
            "Looking in indexes: https://pypi.org/simple, https://us-python.pkg.dev/colab-wheels/public/simple/\n",
            "Requirement already satisfied: wooldridge in /usr/local/lib/python3.7/dist-packages (0.4.4)\n",
            "Requirement already satisfied: pandas in /usr/local/lib/python3.7/dist-packages (from wooldridge) (1.3.5)\n",
            "Requirement already satisfied: numpy>=1.17.3 in /usr/local/lib/python3.7/dist-packages (from pandas->wooldridge) (1.21.6)\n",
            "Requirement already satisfied: python-dateutil>=2.7.3 in /usr/local/lib/python3.7/dist-packages (from pandas->wooldridge) (2.8.2)\n",
            "Requirement already satisfied: pytz>=2017.3 in /usr/local/lib/python3.7/dist-packages (from pandas->wooldridge) (2022.6)\n",
            "Requirement already satisfied: six>=1.5 in /usr/local/lib/python3.7/dist-packages (from python-dateutil>=2.7.3->pandas->wooldridge) (1.15.0)\n"
          ]
        }
      ],
      "source": [
        "!pip install wooldridge\n",
        "import wooldridge as woo\n",
        "import statsmodels.formula.api as smf\n",
        "import matplotlib.pyplot as plt\n",
        "import seaborn as sns"
      ]
    },
    {
      "cell_type": "markdown",
      "source": [
        "# Example 2. Explaining arrest records"
      ],
      "metadata": {
        "id": "aEHpzweDwqTa"
      }
    },
    {
      "cell_type": "markdown",
      "source": [
        "#### CRIME1 contains data on arrests during the year 1986 and other information on 2,725 men born in either 1960 or 1961 in California. Each man in the sample was arrested at least once prior to 1986.\n",
        "#### The variable narr86 is the number of times the man was arrested during 1986: it is zero for most men in the sample (72.29%), and it varies from 0 to 12. (The percentage of men arrested once during 1986 was 20.51.) The variable pcnv is the proportion (not percentage) of arrests prior to 1986 that led to conviction, avgsen is average sentence length served for prior convictions (zero for most people), ptime86 is months spent in prison in 1986, and qemp86 is the number of quarters during which the man was employed in 1986 (from zero to four).\n",
        "\n",
        "\n",
        "#### In this case we fit the following multiple linear model:\n",
        "$ narr86=\\beta_0+\\beta_1*pncv+\\beta_2*avgsen+\\beta_3*ptime86++\\beta_4*qemp86+u $\n",
        "\n",
        "\n"
      ],
      "metadata": {
        "id": "qHmLOQ7MxEbJ"
      }
    },
    {
      "cell_type": "markdown",
      "source": [
        "### Using the data in CRIME1 where n=2725 individuals"
      ],
      "metadata": {
        "id": "D1fR69Bky4iO"
      }
    },
    {
      "cell_type": "code",
      "source": [
        "crimeData = woo.dataWoo('crime1')\n"
      ],
      "metadata": {
        "id": "2ma8vEoPxGI_"
      },
      "execution_count": 20,
      "outputs": []
    },
    {
      "cell_type": "code",
      "source": [
        "crimeData.head()"
      ],
      "metadata": {
        "colab": {
          "base_uri": "https://localhost:8080/",
          "height": 206
        },
        "id": "uNliv4ZZ0OeX",
        "outputId": "a4687240-e085-42b6-df82-49ab880159a2"
      },
      "execution_count": 21,
      "outputs": [
        {
          "output_type": "execute_result",
          "data": {
            "text/plain": [
              "   narr86  nfarr86  nparr86  pcnv     avgsen    tottime  ptime86  qemp86  \\\n",
              "0       0        0        0  0.38  17.600000  35.200001       12     0.0   \n",
              "1       2        2        0  0.44   0.000000   0.000000        0     1.0   \n",
              "2       1        1        0  0.33  22.799999  22.799999        0     0.0   \n",
              "3       2        2        1  0.25   0.000000   0.000000        5     2.0   \n",
              "4       1        1        0  0.00   0.000000   0.000000        0     2.0   \n",
              "\n",
              "   inc86  durat  black  hispan  born60  pcnvsq  pt86sq    inc86sq  \n",
              "0    0.0    0.0      0       0       1  0.1444     144   0.000000  \n",
              "1    0.8    0.0      0       1       0  0.1936       0   0.640000  \n",
              "2    0.0   11.0      1       0       1  0.1089       0   0.000000  \n",
              "3    8.8    0.0      0       1       1  0.0625      25  77.440002  \n",
              "4    8.1    1.0      0       0       0  0.0000       0  65.610008  "
            ],
            "text/html": [
              "\n",
              "  <div id=\"df-ec2f72b3-b2db-4511-bad6-2f1e6096f1f1\">\n",
              "    <div class=\"colab-df-container\">\n",
              "      <div>\n",
              "<style scoped>\n",
              "    .dataframe tbody tr th:only-of-type {\n",
              "        vertical-align: middle;\n",
              "    }\n",
              "\n",
              "    .dataframe tbody tr th {\n",
              "        vertical-align: top;\n",
              "    }\n",
              "\n",
              "    .dataframe thead th {\n",
              "        text-align: right;\n",
              "    }\n",
              "</style>\n",
              "<table border=\"1\" class=\"dataframe\">\n",
              "  <thead>\n",
              "    <tr style=\"text-align: right;\">\n",
              "      <th></th>\n",
              "      <th>narr86</th>\n",
              "      <th>nfarr86</th>\n",
              "      <th>nparr86</th>\n",
              "      <th>pcnv</th>\n",
              "      <th>avgsen</th>\n",
              "      <th>tottime</th>\n",
              "      <th>ptime86</th>\n",
              "      <th>qemp86</th>\n",
              "      <th>inc86</th>\n",
              "      <th>durat</th>\n",
              "      <th>black</th>\n",
              "      <th>hispan</th>\n",
              "      <th>born60</th>\n",
              "      <th>pcnvsq</th>\n",
              "      <th>pt86sq</th>\n",
              "      <th>inc86sq</th>\n",
              "    </tr>\n",
              "  </thead>\n",
              "  <tbody>\n",
              "    <tr>\n",
              "      <th>0</th>\n",
              "      <td>0</td>\n",
              "      <td>0</td>\n",
              "      <td>0</td>\n",
              "      <td>0.38</td>\n",
              "      <td>17.600000</td>\n",
              "      <td>35.200001</td>\n",
              "      <td>12</td>\n",
              "      <td>0.0</td>\n",
              "      <td>0.0</td>\n",
              "      <td>0.0</td>\n",
              "      <td>0</td>\n",
              "      <td>0</td>\n",
              "      <td>1</td>\n",
              "      <td>0.1444</td>\n",
              "      <td>144</td>\n",
              "      <td>0.000000</td>\n",
              "    </tr>\n",
              "    <tr>\n",
              "      <th>1</th>\n",
              "      <td>2</td>\n",
              "      <td>2</td>\n",
              "      <td>0</td>\n",
              "      <td>0.44</td>\n",
              "      <td>0.000000</td>\n",
              "      <td>0.000000</td>\n",
              "      <td>0</td>\n",
              "      <td>1.0</td>\n",
              "      <td>0.8</td>\n",
              "      <td>0.0</td>\n",
              "      <td>0</td>\n",
              "      <td>1</td>\n",
              "      <td>0</td>\n",
              "      <td>0.1936</td>\n",
              "      <td>0</td>\n",
              "      <td>0.640000</td>\n",
              "    </tr>\n",
              "    <tr>\n",
              "      <th>2</th>\n",
              "      <td>1</td>\n",
              "      <td>1</td>\n",
              "      <td>0</td>\n",
              "      <td>0.33</td>\n",
              "      <td>22.799999</td>\n",
              "      <td>22.799999</td>\n",
              "      <td>0</td>\n",
              "      <td>0.0</td>\n",
              "      <td>0.0</td>\n",
              "      <td>11.0</td>\n",
              "      <td>1</td>\n",
              "      <td>0</td>\n",
              "      <td>1</td>\n",
              "      <td>0.1089</td>\n",
              "      <td>0</td>\n",
              "      <td>0.000000</td>\n",
              "    </tr>\n",
              "    <tr>\n",
              "      <th>3</th>\n",
              "      <td>2</td>\n",
              "      <td>2</td>\n",
              "      <td>1</td>\n",
              "      <td>0.25</td>\n",
              "      <td>0.000000</td>\n",
              "      <td>0.000000</td>\n",
              "      <td>5</td>\n",
              "      <td>2.0</td>\n",
              "      <td>8.8</td>\n",
              "      <td>0.0</td>\n",
              "      <td>0</td>\n",
              "      <td>1</td>\n",
              "      <td>1</td>\n",
              "      <td>0.0625</td>\n",
              "      <td>25</td>\n",
              "      <td>77.440002</td>\n",
              "    </tr>\n",
              "    <tr>\n",
              "      <th>4</th>\n",
              "      <td>1</td>\n",
              "      <td>1</td>\n",
              "      <td>0</td>\n",
              "      <td>0.00</td>\n",
              "      <td>0.000000</td>\n",
              "      <td>0.000000</td>\n",
              "      <td>0</td>\n",
              "      <td>2.0</td>\n",
              "      <td>8.1</td>\n",
              "      <td>1.0</td>\n",
              "      <td>0</td>\n",
              "      <td>0</td>\n",
              "      <td>0</td>\n",
              "      <td>0.0000</td>\n",
              "      <td>0</td>\n",
              "      <td>65.610008</td>\n",
              "    </tr>\n",
              "  </tbody>\n",
              "</table>\n",
              "</div>\n",
              "      <button class=\"colab-df-convert\" onclick=\"convertToInteractive('df-ec2f72b3-b2db-4511-bad6-2f1e6096f1f1')\"\n",
              "              title=\"Convert this dataframe to an interactive table.\"\n",
              "              style=\"display:none;\">\n",
              "        \n",
              "  <svg xmlns=\"http://www.w3.org/2000/svg\" height=\"24px\"viewBox=\"0 0 24 24\"\n",
              "       width=\"24px\">\n",
              "    <path d=\"M0 0h24v24H0V0z\" fill=\"none\"/>\n",
              "    <path d=\"M18.56 5.44l.94 2.06.94-2.06 2.06-.94-2.06-.94-.94-2.06-.94 2.06-2.06.94zm-11 1L8.5 8.5l.94-2.06 2.06-.94-2.06-.94L8.5 2.5l-.94 2.06-2.06.94zm10 10l.94 2.06.94-2.06 2.06-.94-2.06-.94-.94-2.06-.94 2.06-2.06.94z\"/><path d=\"M17.41 7.96l-1.37-1.37c-.4-.4-.92-.59-1.43-.59-.52 0-1.04.2-1.43.59L10.3 9.45l-7.72 7.72c-.78.78-.78 2.05 0 2.83L4 21.41c.39.39.9.59 1.41.59.51 0 1.02-.2 1.41-.59l7.78-7.78 2.81-2.81c.8-.78.8-2.07 0-2.86zM5.41 20L4 18.59l7.72-7.72 1.47 1.35L5.41 20z\"/>\n",
              "  </svg>\n",
              "      </button>\n",
              "      \n",
              "  <style>\n",
              "    .colab-df-container {\n",
              "      display:flex;\n",
              "      flex-wrap:wrap;\n",
              "      gap: 12px;\n",
              "    }\n",
              "\n",
              "    .colab-df-convert {\n",
              "      background-color: #E8F0FE;\n",
              "      border: none;\n",
              "      border-radius: 50%;\n",
              "      cursor: pointer;\n",
              "      display: none;\n",
              "      fill: #1967D2;\n",
              "      height: 32px;\n",
              "      padding: 0 0 0 0;\n",
              "      width: 32px;\n",
              "    }\n",
              "\n",
              "    .colab-df-convert:hover {\n",
              "      background-color: #E2EBFA;\n",
              "      box-shadow: 0px 1px 2px rgba(60, 64, 67, 0.3), 0px 1px 3px 1px rgba(60, 64, 67, 0.15);\n",
              "      fill: #174EA6;\n",
              "    }\n",
              "\n",
              "    [theme=dark] .colab-df-convert {\n",
              "      background-color: #3B4455;\n",
              "      fill: #D2E3FC;\n",
              "    }\n",
              "\n",
              "    [theme=dark] .colab-df-convert:hover {\n",
              "      background-color: #434B5C;\n",
              "      box-shadow: 0px 1px 3px 1px rgba(0, 0, 0, 0.15);\n",
              "      filter: drop-shadow(0px 1px 2px rgba(0, 0, 0, 0.3));\n",
              "      fill: #FFFFFF;\n",
              "    }\n",
              "  </style>\n",
              "\n",
              "      <script>\n",
              "        const buttonEl =\n",
              "          document.querySelector('#df-ec2f72b3-b2db-4511-bad6-2f1e6096f1f1 button.colab-df-convert');\n",
              "        buttonEl.style.display =\n",
              "          google.colab.kernel.accessAllowed ? 'block' : 'none';\n",
              "\n",
              "        async function convertToInteractive(key) {\n",
              "          const element = document.querySelector('#df-ec2f72b3-b2db-4511-bad6-2f1e6096f1f1');\n",
              "          const dataTable =\n",
              "            await google.colab.kernel.invokeFunction('convertToInteractive',\n",
              "                                                     [key], {});\n",
              "          if (!dataTable) return;\n",
              "\n",
              "          const docLinkHtml = 'Like what you see? Visit the ' +\n",
              "            '<a target=\"_blank\" href=https://colab.research.google.com/notebooks/data_table.ipynb>data table notebook</a>'\n",
              "            + ' to learn more about interactive tables.';\n",
              "          element.innerHTML = '';\n",
              "          dataTable['output_type'] = 'display_data';\n",
              "          await google.colab.output.renderOutput(dataTable, element);\n",
              "          const docLink = document.createElement('div');\n",
              "          docLink.innerHTML = docLinkHtml;\n",
              "          element.appendChild(docLink);\n",
              "        }\n",
              "      </script>\n",
              "    </div>\n",
              "  </div>\n",
              "  "
            ]
          },
          "metadata": {},
          "execution_count": 21
        }
      ]
    },
    {
      "cell_type": "code",
      "source": [
        "crimeData.describe()"
      ],
      "metadata": {
        "colab": {
          "base_uri": "https://localhost:8080/",
          "height": 300
        },
        "id": "q-2EAruT0SPq",
        "outputId": "44abf37b-af41-4ff5-dfec-e01ae5941327"
      },
      "execution_count": 22,
      "outputs": [
        {
          "output_type": "execute_result",
          "data": {
            "text/plain": [
              "            narr86      nfarr86      nparr86         pcnv       avgsen  \\\n",
              "count  2725.000000  2725.000000  2725.000000  2725.000000  2725.000000   \n",
              "mean      0.404404     0.233394     0.125505     0.357787     0.632294   \n",
              "std       0.859077     0.581014     0.482847     0.395192     3.508031   \n",
              "min       0.000000     0.000000     0.000000     0.000000     0.000000   \n",
              "25%       0.000000     0.000000     0.000000     0.000000     0.000000   \n",
              "50%       0.000000     0.000000     0.000000     0.250000     0.000000   \n",
              "75%       1.000000     0.000000     0.000000     0.670000     0.000000   \n",
              "max      12.000000     6.000000     8.000000     1.000000    59.200001   \n",
              "\n",
              "           tottime      ptime86       qemp86        inc86        durat  \\\n",
              "count  2725.000000  2725.000000  2725.000000  2725.000000  2725.000000   \n",
              "mean      0.838752     0.387156     2.309028    54.967046     2.251376   \n",
              "std       4.607019     1.950051     1.610428    66.627213     4.607063   \n",
              "min       0.000000     0.000000     0.000000     0.000000     0.000000   \n",
              "25%       0.000000     0.000000     1.000000     0.400000     0.000000   \n",
              "50%       0.000000     0.000000     3.000000    29.000000     0.000000   \n",
              "75%       0.000000     0.000000     4.000000    90.099998     2.000000   \n",
              "max      63.400002    12.000000     4.000000   541.000000    25.000000   \n",
              "\n",
              "             black       hispan       born60       pcnvsq       pt86sq  \\\n",
              "count  2725.000000  2725.000000  2725.000000  2725.000000  2725.000000   \n",
              "mean      0.161101     0.217615     0.362569     0.284131     3.951193   \n",
              "std       0.367691     0.412700     0.480830     0.390734    22.085840   \n",
              "min       0.000000     0.000000     0.000000     0.000000     0.000000   \n",
              "25%       0.000000     0.000000     0.000000     0.000000     0.000000   \n",
              "50%       0.000000     0.000000     0.000000     0.062500     0.000000   \n",
              "75%       0.000000     0.000000     1.000000     0.448900     0.000000   \n",
              "max       1.000000     1.000000     1.000000     1.000000   144.000000   \n",
              "\n",
              "             inc86sq  \n",
              "count    2725.000000  \n",
              "mean     7458.932620  \n",
              "std     16361.238454  \n",
              "min         0.000000  \n",
              "25%         0.160000  \n",
              "50%       841.000000  \n",
              "75%      8118.009766  \n",
              "max    292681.000000  "
            ],
            "text/html": [
              "\n",
              "  <div id=\"df-4fbb67e1-8358-49fd-bf6f-0274e4fa031b\">\n",
              "    <div class=\"colab-df-container\">\n",
              "      <div>\n",
              "<style scoped>\n",
              "    .dataframe tbody tr th:only-of-type {\n",
              "        vertical-align: middle;\n",
              "    }\n",
              "\n",
              "    .dataframe tbody tr th {\n",
              "        vertical-align: top;\n",
              "    }\n",
              "\n",
              "    .dataframe thead th {\n",
              "        text-align: right;\n",
              "    }\n",
              "</style>\n",
              "<table border=\"1\" class=\"dataframe\">\n",
              "  <thead>\n",
              "    <tr style=\"text-align: right;\">\n",
              "      <th></th>\n",
              "      <th>narr86</th>\n",
              "      <th>nfarr86</th>\n",
              "      <th>nparr86</th>\n",
              "      <th>pcnv</th>\n",
              "      <th>avgsen</th>\n",
              "      <th>tottime</th>\n",
              "      <th>ptime86</th>\n",
              "      <th>qemp86</th>\n",
              "      <th>inc86</th>\n",
              "      <th>durat</th>\n",
              "      <th>black</th>\n",
              "      <th>hispan</th>\n",
              "      <th>born60</th>\n",
              "      <th>pcnvsq</th>\n",
              "      <th>pt86sq</th>\n",
              "      <th>inc86sq</th>\n",
              "    </tr>\n",
              "  </thead>\n",
              "  <tbody>\n",
              "    <tr>\n",
              "      <th>count</th>\n",
              "      <td>2725.000000</td>\n",
              "      <td>2725.000000</td>\n",
              "      <td>2725.000000</td>\n",
              "      <td>2725.000000</td>\n",
              "      <td>2725.000000</td>\n",
              "      <td>2725.000000</td>\n",
              "      <td>2725.000000</td>\n",
              "      <td>2725.000000</td>\n",
              "      <td>2725.000000</td>\n",
              "      <td>2725.000000</td>\n",
              "      <td>2725.000000</td>\n",
              "      <td>2725.000000</td>\n",
              "      <td>2725.000000</td>\n",
              "      <td>2725.000000</td>\n",
              "      <td>2725.000000</td>\n",
              "      <td>2725.000000</td>\n",
              "    </tr>\n",
              "    <tr>\n",
              "      <th>mean</th>\n",
              "      <td>0.404404</td>\n",
              "      <td>0.233394</td>\n",
              "      <td>0.125505</td>\n",
              "      <td>0.357787</td>\n",
              "      <td>0.632294</td>\n",
              "      <td>0.838752</td>\n",
              "      <td>0.387156</td>\n",
              "      <td>2.309028</td>\n",
              "      <td>54.967046</td>\n",
              "      <td>2.251376</td>\n",
              "      <td>0.161101</td>\n",
              "      <td>0.217615</td>\n",
              "      <td>0.362569</td>\n",
              "      <td>0.284131</td>\n",
              "      <td>3.951193</td>\n",
              "      <td>7458.932620</td>\n",
              "    </tr>\n",
              "    <tr>\n",
              "      <th>std</th>\n",
              "      <td>0.859077</td>\n",
              "      <td>0.581014</td>\n",
              "      <td>0.482847</td>\n",
              "      <td>0.395192</td>\n",
              "      <td>3.508031</td>\n",
              "      <td>4.607019</td>\n",
              "      <td>1.950051</td>\n",
              "      <td>1.610428</td>\n",
              "      <td>66.627213</td>\n",
              "      <td>4.607063</td>\n",
              "      <td>0.367691</td>\n",
              "      <td>0.412700</td>\n",
              "      <td>0.480830</td>\n",
              "      <td>0.390734</td>\n",
              "      <td>22.085840</td>\n",
              "      <td>16361.238454</td>\n",
              "    </tr>\n",
              "    <tr>\n",
              "      <th>min</th>\n",
              "      <td>0.000000</td>\n",
              "      <td>0.000000</td>\n",
              "      <td>0.000000</td>\n",
              "      <td>0.000000</td>\n",
              "      <td>0.000000</td>\n",
              "      <td>0.000000</td>\n",
              "      <td>0.000000</td>\n",
              "      <td>0.000000</td>\n",
              "      <td>0.000000</td>\n",
              "      <td>0.000000</td>\n",
              "      <td>0.000000</td>\n",
              "      <td>0.000000</td>\n",
              "      <td>0.000000</td>\n",
              "      <td>0.000000</td>\n",
              "      <td>0.000000</td>\n",
              "      <td>0.000000</td>\n",
              "    </tr>\n",
              "    <tr>\n",
              "      <th>25%</th>\n",
              "      <td>0.000000</td>\n",
              "      <td>0.000000</td>\n",
              "      <td>0.000000</td>\n",
              "      <td>0.000000</td>\n",
              "      <td>0.000000</td>\n",
              "      <td>0.000000</td>\n",
              "      <td>0.000000</td>\n",
              "      <td>1.000000</td>\n",
              "      <td>0.400000</td>\n",
              "      <td>0.000000</td>\n",
              "      <td>0.000000</td>\n",
              "      <td>0.000000</td>\n",
              "      <td>0.000000</td>\n",
              "      <td>0.000000</td>\n",
              "      <td>0.000000</td>\n",
              "      <td>0.160000</td>\n",
              "    </tr>\n",
              "    <tr>\n",
              "      <th>50%</th>\n",
              "      <td>0.000000</td>\n",
              "      <td>0.000000</td>\n",
              "      <td>0.000000</td>\n",
              "      <td>0.250000</td>\n",
              "      <td>0.000000</td>\n",
              "      <td>0.000000</td>\n",
              "      <td>0.000000</td>\n",
              "      <td>3.000000</td>\n",
              "      <td>29.000000</td>\n",
              "      <td>0.000000</td>\n",
              "      <td>0.000000</td>\n",
              "      <td>0.000000</td>\n",
              "      <td>0.000000</td>\n",
              "      <td>0.062500</td>\n",
              "      <td>0.000000</td>\n",
              "      <td>841.000000</td>\n",
              "    </tr>\n",
              "    <tr>\n",
              "      <th>75%</th>\n",
              "      <td>1.000000</td>\n",
              "      <td>0.000000</td>\n",
              "      <td>0.000000</td>\n",
              "      <td>0.670000</td>\n",
              "      <td>0.000000</td>\n",
              "      <td>0.000000</td>\n",
              "      <td>0.000000</td>\n",
              "      <td>4.000000</td>\n",
              "      <td>90.099998</td>\n",
              "      <td>2.000000</td>\n",
              "      <td>0.000000</td>\n",
              "      <td>0.000000</td>\n",
              "      <td>1.000000</td>\n",
              "      <td>0.448900</td>\n",
              "      <td>0.000000</td>\n",
              "      <td>8118.009766</td>\n",
              "    </tr>\n",
              "    <tr>\n",
              "      <th>max</th>\n",
              "      <td>12.000000</td>\n",
              "      <td>6.000000</td>\n",
              "      <td>8.000000</td>\n",
              "      <td>1.000000</td>\n",
              "      <td>59.200001</td>\n",
              "      <td>63.400002</td>\n",
              "      <td>12.000000</td>\n",
              "      <td>4.000000</td>\n",
              "      <td>541.000000</td>\n",
              "      <td>25.000000</td>\n",
              "      <td>1.000000</td>\n",
              "      <td>1.000000</td>\n",
              "      <td>1.000000</td>\n",
              "      <td>1.000000</td>\n",
              "      <td>144.000000</td>\n",
              "      <td>292681.000000</td>\n",
              "    </tr>\n",
              "  </tbody>\n",
              "</table>\n",
              "</div>\n",
              "      <button class=\"colab-df-convert\" onclick=\"convertToInteractive('df-4fbb67e1-8358-49fd-bf6f-0274e4fa031b')\"\n",
              "              title=\"Convert this dataframe to an interactive table.\"\n",
              "              style=\"display:none;\">\n",
              "        \n",
              "  <svg xmlns=\"http://www.w3.org/2000/svg\" height=\"24px\"viewBox=\"0 0 24 24\"\n",
              "       width=\"24px\">\n",
              "    <path d=\"M0 0h24v24H0V0z\" fill=\"none\"/>\n",
              "    <path d=\"M18.56 5.44l.94 2.06.94-2.06 2.06-.94-2.06-.94-.94-2.06-.94 2.06-2.06.94zm-11 1L8.5 8.5l.94-2.06 2.06-.94-2.06-.94L8.5 2.5l-.94 2.06-2.06.94zm10 10l.94 2.06.94-2.06 2.06-.94-2.06-.94-.94-2.06-.94 2.06-2.06.94z\"/><path d=\"M17.41 7.96l-1.37-1.37c-.4-.4-.92-.59-1.43-.59-.52 0-1.04.2-1.43.59L10.3 9.45l-7.72 7.72c-.78.78-.78 2.05 0 2.83L4 21.41c.39.39.9.59 1.41.59.51 0 1.02-.2 1.41-.59l7.78-7.78 2.81-2.81c.8-.78.8-2.07 0-2.86zM5.41 20L4 18.59l7.72-7.72 1.47 1.35L5.41 20z\"/>\n",
              "  </svg>\n",
              "      </button>\n",
              "      \n",
              "  <style>\n",
              "    .colab-df-container {\n",
              "      display:flex;\n",
              "      flex-wrap:wrap;\n",
              "      gap: 12px;\n",
              "    }\n",
              "\n",
              "    .colab-df-convert {\n",
              "      background-color: #E8F0FE;\n",
              "      border: none;\n",
              "      border-radius: 50%;\n",
              "      cursor: pointer;\n",
              "      display: none;\n",
              "      fill: #1967D2;\n",
              "      height: 32px;\n",
              "      padding: 0 0 0 0;\n",
              "      width: 32px;\n",
              "    }\n",
              "\n",
              "    .colab-df-convert:hover {\n",
              "      background-color: #E2EBFA;\n",
              "      box-shadow: 0px 1px 2px rgba(60, 64, 67, 0.3), 0px 1px 3px 1px rgba(60, 64, 67, 0.15);\n",
              "      fill: #174EA6;\n",
              "    }\n",
              "\n",
              "    [theme=dark] .colab-df-convert {\n",
              "      background-color: #3B4455;\n",
              "      fill: #D2E3FC;\n",
              "    }\n",
              "\n",
              "    [theme=dark] .colab-df-convert:hover {\n",
              "      background-color: #434B5C;\n",
              "      box-shadow: 0px 1px 3px 1px rgba(0, 0, 0, 0.15);\n",
              "      filter: drop-shadow(0px 1px 2px rgba(0, 0, 0, 0.3));\n",
              "      fill: #FFFFFF;\n",
              "    }\n",
              "  </style>\n",
              "\n",
              "      <script>\n",
              "        const buttonEl =\n",
              "          document.querySelector('#df-4fbb67e1-8358-49fd-bf6f-0274e4fa031b button.colab-df-convert');\n",
              "        buttonEl.style.display =\n",
              "          google.colab.kernel.accessAllowed ? 'block' : 'none';\n",
              "\n",
              "        async function convertToInteractive(key) {\n",
              "          const element = document.querySelector('#df-4fbb67e1-8358-49fd-bf6f-0274e4fa031b');\n",
              "          const dataTable =\n",
              "            await google.colab.kernel.invokeFunction('convertToInteractive',\n",
              "                                                     [key], {});\n",
              "          if (!dataTable) return;\n",
              "\n",
              "          const docLinkHtml = 'Like what you see? Visit the ' +\n",
              "            '<a target=\"_blank\" href=https://colab.research.google.com/notebooks/data_table.ipynb>data table notebook</a>'\n",
              "            + ' to learn more about interactive tables.';\n",
              "          element.innerHTML = '';\n",
              "          dataTable['output_type'] = 'display_data';\n",
              "          await google.colab.output.renderOutput(dataTable, element);\n",
              "          const docLink = document.createElement('div');\n",
              "          docLink.innerHTML = docLinkHtml;\n",
              "          element.appendChild(docLink);\n",
              "        }\n",
              "      </script>\n",
              "    </div>\n",
              "  </div>\n",
              "  "
            ]
          },
          "metadata": {},
          "execution_count": 22
        }
      ]
    },
    {
      "cell_type": "code",
      "source": [
        "type(crimeData)"
      ],
      "metadata": {
        "colab": {
          "base_uri": "https://localhost:8080/"
        },
        "id": "xPiVcFZAzh1t",
        "outputId": "3eb64e9d-938d-42b2-f18e-6b976bf82dbe"
      },
      "execution_count": 23,
      "outputs": [
        {
          "output_type": "execute_result",
          "data": {
            "text/plain": [
              "pandas.core.frame.DataFrame"
            ]
          },
          "metadata": {},
          "execution_count": 23
        }
      ]
    },
    {
      "cell_type": "code",
      "source": [
        "# We impose a simple, linear, model: \n",
        "# We specify CeoSalaries as the empirical dataset\n",
        "\n",
        "reg = smf.ols(formula='narr86 ~ pcnv + ptime86 + qemp86', data=crimeData)"
      ],
      "metadata": {
        "id": "xNYUa6c-0ZYd"
      },
      "execution_count": 24,
      "outputs": []
    },
    {
      "cell_type": "code",
      "source": [
        "# We fit the model\n",
        "results = reg.fit()\n"
      ],
      "metadata": {
        "id": "ykd6_iLT0AU_"
      },
      "execution_count": 25,
      "outputs": []
    },
    {
      "cell_type": "code",
      "source": [
        "b = results.params\n",
        "print(f'b: \\n{b}\\n')"
      ],
      "metadata": {
        "colab": {
          "base_uri": "https://localhost:8080/"
        },
        "id": "6C-KSKSJ0eJL",
        "outputId": "7774f855-0793-4832-d97d-6dfbe0cc524a"
      },
      "execution_count": 26,
      "outputs": [
        {
          "output_type": "stream",
          "name": "stdout",
          "text": [
            "b: \n",
            "Intercept    0.711772\n",
            "pcnv        -0.149927\n",
            "ptime86     -0.034420\n",
            "qemp86      -0.104113\n",
            "dtype: float64\n",
            "\n"
          ]
        }
      ]
    },
    {
      "cell_type": "code",
      "source": [
        "results.rsquared"
      ],
      "metadata": {
        "colab": {
          "base_uri": "https://localhost:8080/"
        },
        "id": "yUgn1aDVVOsc",
        "outputId": "1aa50fd8-c80f-4fa7-9294-f7cdbdbd6478"
      },
      "execution_count": 27,
      "outputs": [
        {
          "output_type": "execute_result",
          "data": {
            "text/plain": [
              "0.04132330770123016"
            ]
          },
          "metadata": {},
          "execution_count": 27
        }
      ]
    },
    {
      "cell_type": "markdown",
      "source": [
        "## Based on the previous we have fitted the following model:\n",
        "\n",
        "$ narr86=0.71-0.1499*pncv-0.034*ptime86-0.104*qemp86+u $\n",
        "\n",
        "$R^2=0.041$\n"
      ],
      "metadata": {
        "id": "TD99-pf-1RVu"
      }
    },
    {
      "cell_type": "markdown",
      "source": [
        "#### where pcnv is a proxy for the likelihood for being convicted of a crime. The variable ptime86 captures the incarcerative effects of crime: if an individual is in prison, he cannot be arrested for a crime outside of prison. Labor market opportunities are crudely captured by qemp86."
      ],
      "metadata": {
        "id": "_cmvgvoSWBxb"
      }
    },
    {
      "cell_type": "markdown",
      "source": [
        "## How do we interpret the equation?\n",
        "\n",
        "#### This equation says that, as a group, the three variables pcnv, ptime86, and qemp86 explain about 4.1% ($R^2=0.041$) of the variation in narr86.\n",
        "\n",
        "#### Each of the OLS slope coefficients has the anticipated sign. An increase in the proportion of convictions lowers the predicted number of arrests.\n",
        "\n",
        "#### Similarly, a longer prison term leads to a lower predicted number of arrests. In fact, if ptime86 increases from 0 to 12, predicted arrests for a particular man fall by .034*12=.408. Another quarter in which legal employment is reported lowers predicted arrests by .104, which would be 10.4 arrests among 100 men. "
      ],
      "metadata": {
        "id": "gXrsythK1wue"
      }
    },
    {
      "cell_type": "code",
      "source": [],
      "metadata": {
        "id": "y41erxCXRZUt"
      },
      "execution_count": 27,
      "outputs": []
    },
    {
      "cell_type": "markdown",
      "source": [
        "## Let's try to improve the model.\n",
        "\n",
        "#### The previous model explained just 4.1% of the variation in narr86. We can try to improve the model by adding aditional explanatory variables, for instance avgsen: the average sentence length served for prior convictions (zero for most people)."
      ],
      "metadata": {
        "id": "7rWJuiO6YlZl"
      }
    },
    {
      "cell_type": "code",
      "source": [
        "reg = smf.ols(formula='narr86 ~ pcnv +avgsen+ ptime86 + qemp86', data=crimeData)"
      ],
      "metadata": {
        "id": "HzMTfYRoe49Q"
      },
      "execution_count": 28,
      "outputs": []
    },
    {
      "cell_type": "code",
      "source": [
        " #We fit the model\n",
        "results = reg.fit()\n"
      ],
      "metadata": {
        "id": "pa7Q3TeafG1V"
      },
      "execution_count": 29,
      "outputs": []
    },
    {
      "cell_type": "code",
      "source": [
        "b = results.params\n",
        "print(f'b: \\n{b}\\n')"
      ],
      "metadata": {
        "colab": {
          "base_uri": "https://localhost:8080/"
        },
        "id": "K0SpjhXhfGyw",
        "outputId": "4c0ea618-0d84-47cb-b727-5bf5c9aa8454"
      },
      "execution_count": 30,
      "outputs": [
        {
          "output_type": "stream",
          "name": "stdout",
          "text": [
            "b: \n",
            "Intercept    0.706756\n",
            "pcnv        -0.150832\n",
            "avgsen       0.007443\n",
            "ptime86     -0.037391\n",
            "qemp86      -0.103341\n",
            "dtype: float64\n",
            "\n"
          ]
        }
      ]
    },
    {
      "cell_type": "code",
      "source": [
        "results.rsquared"
      ],
      "metadata": {
        "colab": {
          "base_uri": "https://localhost:8080/"
        },
        "id": "wTkgEZk_fGuY",
        "outputId": "d54949f0-ad34-4796-df2b-b40913715a6d"
      },
      "execution_count": 31,
      "outputs": [
        {
          "output_type": "execute_result",
          "data": {
            "text/plain": [
              "0.04219385157543343"
            ]
          },
          "metadata": {},
          "execution_count": 31
        }
      ]
    },
    {
      "cell_type": "markdown",
      "source": [
        "#### Thus, adding the average sentence variable increases R2 from .0413 to .0422, a practically small effect. The sign of the coefficient on avgsen is also unexpected: it says that a longer average sentence length increases criminal activity."
      ],
      "metadata": {
        "id": "Mn0UmHW4fUG2"
      }
    },
    {
      "cell_type": "code",
      "source": [],
      "metadata": {
        "id": "Uy-dGfqmfWYn"
      },
      "execution_count": 31,
      "outputs": []
    }
  ]
}