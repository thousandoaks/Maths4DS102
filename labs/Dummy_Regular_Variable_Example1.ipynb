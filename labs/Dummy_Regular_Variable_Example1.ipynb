{
  "nbformat": 4,
  "nbformat_minor": 0,
  "metadata": {
    "colab": {
      "provenance": [],
      "authorship_tag": "ABX9TyMUMx1IfUtGCZkX+7HT5xpl"
    },
    "kernelspec": {
      "name": "python3",
      "display_name": "Python 3"
    },
    "language_info": {
      "name": "python"
    }
  },
  "cells": [
    {
      "cell_type": "markdown",
      "source": [
        "# Interacting Dummy and Regular Variables (First Example)"
      ],
      "metadata": {
        "id": "9Koy8IdCva-p"
      }
    },
    {
      "cell_type": "markdown",
      "source": [
        "### Intro and objectives\n",
        "\n",
        "### In this lab you will learn:\n",
        "1. examples of simple regression models with dummy variables interacting with regular ones.\n",
        "2. how to fit simple regression models in Python.\n",
        "\n",
        "\n",
        "## What I hope you'll get out of this lab\n",
        "* The feeling that you'll \"know where to start\" when you need to fit a simple regression model and include several dummy variables interacting with regular ones.\n",
        "* Examples of simple regression models\n",
        "* How to interpret the results obtained"
      ],
      "metadata": {
        "id": "DiOUGkzJvkIq"
      }
    },
    {
      "cell_type": "code",
      "execution_count": 1,
      "metadata": {
        "colab": {
          "base_uri": "https://localhost:8080/"
        },
        "id": "31p3EWLtvZq_",
        "outputId": "57e64f17-4dfe-45c2-87df-60c2726704dc"
      },
      "outputs": [
        {
          "output_type": "stream",
          "name": "stdout",
          "text": [
            "Looking in indexes: https://pypi.org/simple, https://us-python.pkg.dev/colab-wheels/public/simple/\n",
            "Collecting wooldridge\n",
            "  Downloading wooldridge-0.4.4-py3-none-any.whl (5.1 MB)\n",
            "\u001b[K     |████████████████████████████████| 5.1 MB 4.9 MB/s \n",
            "\u001b[?25hRequirement already satisfied: pandas in /usr/local/lib/python3.7/dist-packages (from wooldridge) (1.3.5)\n",
            "Requirement already satisfied: python-dateutil>=2.7.3 in /usr/local/lib/python3.7/dist-packages (from pandas->wooldridge) (2.8.2)\n",
            "Requirement already satisfied: numpy>=1.17.3 in /usr/local/lib/python3.7/dist-packages (from pandas->wooldridge) (1.21.6)\n",
            "Requirement already satisfied: pytz>=2017.3 in /usr/local/lib/python3.7/dist-packages (from pandas->wooldridge) (2022.6)\n",
            "Requirement already satisfied: six>=1.5 in /usr/local/lib/python3.7/dist-packages (from python-dateutil>=2.7.3->pandas->wooldridge) (1.15.0)\n",
            "Installing collected packages: wooldridge\n",
            "Successfully installed wooldridge-0.4.4\n"
          ]
        }
      ],
      "source": [
        "!pip install wooldridge\n",
        "import wooldridge as woo\n",
        "import statsmodels.formula.api as smf\n",
        "import matplotlib.pyplot as plt\n",
        "import seaborn as sns\n",
        "import numpy as np"
      ]
    },
    {
      "cell_type": "markdown",
      "source": [
        "# Example 1. Log Hourly Wage, marital status and gender"
      ],
      "metadata": {
        "id": "aEHpzweDwqTa"
      }
    },
    {
      "cell_type": "markdown",
      "source": [
        "## In this example we want to test for differences in return to education accross gender."
      ],
      "metadata": {
        "id": "qHmLOQ7MxEbJ"
      }
    },
    {
      "cell_type": "markdown",
      "source": [
        "### Using the data in WAGE1 where n=526 individuals"
      ],
      "metadata": {
        "id": "D1fR69Bky4iO"
      }
    },
    {
      "cell_type": "code",
      "source": [
        "Wages = woo.dataWoo('wage1')\n"
      ],
      "metadata": {
        "id": "2ma8vEoPxGI_"
      },
      "execution_count": 2,
      "outputs": []
    },
    {
      "cell_type": "code",
      "source": [
        "Wages.head()"
      ],
      "metadata": {
        "colab": {
          "base_uri": "https://localhost:8080/",
          "height": 236
        },
        "id": "uNliv4ZZ0OeX",
        "outputId": "c5072ad6-aa92-4893-eb54-4538040c603a"
      },
      "execution_count": 3,
      "outputs": [
        {
          "output_type": "execute_result",
          "data": {
            "text/plain": [
              "   wage  educ  exper  tenure  nonwhite  female  married  numdep  smsa  \\\n",
              "0  3.10    11      2       0         0       1        0       2     1   \n",
              "1  3.24    12     22       2         0       1        1       3     1   \n",
              "2  3.00    11      2       0         0       0        0       2     0   \n",
              "3  6.00     8     44      28         0       0        1       0     1   \n",
              "4  5.30    12      7       2         0       0        1       1     0   \n",
              "\n",
              "   northcen  ...  trcommpu  trade  services  profserv  profocc  clerocc  \\\n",
              "0         0  ...         0      0         0         0        0        0   \n",
              "1         0  ...         0      0         1         0        0        0   \n",
              "2         0  ...         0      1         0         0        0        0   \n",
              "3         0  ...         0      0         0         0        0        1   \n",
              "4         0  ...         0      0         0         0        0        0   \n",
              "\n",
              "   servocc     lwage  expersq  tenursq  \n",
              "0        0  1.131402        4        0  \n",
              "1        1  1.175573      484        4  \n",
              "2        0  1.098612        4        0  \n",
              "3        0  1.791759     1936      784  \n",
              "4        0  1.667707       49        4  \n",
              "\n",
              "[5 rows x 24 columns]"
            ],
            "text/html": [
              "\n",
              "  <div id=\"df-69544eb4-23ab-4fe7-aa6e-8fcbc7797fb0\">\n",
              "    <div class=\"colab-df-container\">\n",
              "      <div>\n",
              "<style scoped>\n",
              "    .dataframe tbody tr th:only-of-type {\n",
              "        vertical-align: middle;\n",
              "    }\n",
              "\n",
              "    .dataframe tbody tr th {\n",
              "        vertical-align: top;\n",
              "    }\n",
              "\n",
              "    .dataframe thead th {\n",
              "        text-align: right;\n",
              "    }\n",
              "</style>\n",
              "<table border=\"1\" class=\"dataframe\">\n",
              "  <thead>\n",
              "    <tr style=\"text-align: right;\">\n",
              "      <th></th>\n",
              "      <th>wage</th>\n",
              "      <th>educ</th>\n",
              "      <th>exper</th>\n",
              "      <th>tenure</th>\n",
              "      <th>nonwhite</th>\n",
              "      <th>female</th>\n",
              "      <th>married</th>\n",
              "      <th>numdep</th>\n",
              "      <th>smsa</th>\n",
              "      <th>northcen</th>\n",
              "      <th>...</th>\n",
              "      <th>trcommpu</th>\n",
              "      <th>trade</th>\n",
              "      <th>services</th>\n",
              "      <th>profserv</th>\n",
              "      <th>profocc</th>\n",
              "      <th>clerocc</th>\n",
              "      <th>servocc</th>\n",
              "      <th>lwage</th>\n",
              "      <th>expersq</th>\n",
              "      <th>tenursq</th>\n",
              "    </tr>\n",
              "  </thead>\n",
              "  <tbody>\n",
              "    <tr>\n",
              "      <th>0</th>\n",
              "      <td>3.10</td>\n",
              "      <td>11</td>\n",
              "      <td>2</td>\n",
              "      <td>0</td>\n",
              "      <td>0</td>\n",
              "      <td>1</td>\n",
              "      <td>0</td>\n",
              "      <td>2</td>\n",
              "      <td>1</td>\n",
              "      <td>0</td>\n",
              "      <td>...</td>\n",
              "      <td>0</td>\n",
              "      <td>0</td>\n",
              "      <td>0</td>\n",
              "      <td>0</td>\n",
              "      <td>0</td>\n",
              "      <td>0</td>\n",
              "      <td>0</td>\n",
              "      <td>1.131402</td>\n",
              "      <td>4</td>\n",
              "      <td>0</td>\n",
              "    </tr>\n",
              "    <tr>\n",
              "      <th>1</th>\n",
              "      <td>3.24</td>\n",
              "      <td>12</td>\n",
              "      <td>22</td>\n",
              "      <td>2</td>\n",
              "      <td>0</td>\n",
              "      <td>1</td>\n",
              "      <td>1</td>\n",
              "      <td>3</td>\n",
              "      <td>1</td>\n",
              "      <td>0</td>\n",
              "      <td>...</td>\n",
              "      <td>0</td>\n",
              "      <td>0</td>\n",
              "      <td>1</td>\n",
              "      <td>0</td>\n",
              "      <td>0</td>\n",
              "      <td>0</td>\n",
              "      <td>1</td>\n",
              "      <td>1.175573</td>\n",
              "      <td>484</td>\n",
              "      <td>4</td>\n",
              "    </tr>\n",
              "    <tr>\n",
              "      <th>2</th>\n",
              "      <td>3.00</td>\n",
              "      <td>11</td>\n",
              "      <td>2</td>\n",
              "      <td>0</td>\n",
              "      <td>0</td>\n",
              "      <td>0</td>\n",
              "      <td>0</td>\n",
              "      <td>2</td>\n",
              "      <td>0</td>\n",
              "      <td>0</td>\n",
              "      <td>...</td>\n",
              "      <td>0</td>\n",
              "      <td>1</td>\n",
              "      <td>0</td>\n",
              "      <td>0</td>\n",
              "      <td>0</td>\n",
              "      <td>0</td>\n",
              "      <td>0</td>\n",
              "      <td>1.098612</td>\n",
              "      <td>4</td>\n",
              "      <td>0</td>\n",
              "    </tr>\n",
              "    <tr>\n",
              "      <th>3</th>\n",
              "      <td>6.00</td>\n",
              "      <td>8</td>\n",
              "      <td>44</td>\n",
              "      <td>28</td>\n",
              "      <td>0</td>\n",
              "      <td>0</td>\n",
              "      <td>1</td>\n",
              "      <td>0</td>\n",
              "      <td>1</td>\n",
              "      <td>0</td>\n",
              "      <td>...</td>\n",
              "      <td>0</td>\n",
              "      <td>0</td>\n",
              "      <td>0</td>\n",
              "      <td>0</td>\n",
              "      <td>0</td>\n",
              "      <td>1</td>\n",
              "      <td>0</td>\n",
              "      <td>1.791759</td>\n",
              "      <td>1936</td>\n",
              "      <td>784</td>\n",
              "    </tr>\n",
              "    <tr>\n",
              "      <th>4</th>\n",
              "      <td>5.30</td>\n",
              "      <td>12</td>\n",
              "      <td>7</td>\n",
              "      <td>2</td>\n",
              "      <td>0</td>\n",
              "      <td>0</td>\n",
              "      <td>1</td>\n",
              "      <td>1</td>\n",
              "      <td>0</td>\n",
              "      <td>0</td>\n",
              "      <td>...</td>\n",
              "      <td>0</td>\n",
              "      <td>0</td>\n",
              "      <td>0</td>\n",
              "      <td>0</td>\n",
              "      <td>0</td>\n",
              "      <td>0</td>\n",
              "      <td>0</td>\n",
              "      <td>1.667707</td>\n",
              "      <td>49</td>\n",
              "      <td>4</td>\n",
              "    </tr>\n",
              "  </tbody>\n",
              "</table>\n",
              "<p>5 rows × 24 columns</p>\n",
              "</div>\n",
              "      <button class=\"colab-df-convert\" onclick=\"convertToInteractive('df-69544eb4-23ab-4fe7-aa6e-8fcbc7797fb0')\"\n",
              "              title=\"Convert this dataframe to an interactive table.\"\n",
              "              style=\"display:none;\">\n",
              "        \n",
              "  <svg xmlns=\"http://www.w3.org/2000/svg\" height=\"24px\"viewBox=\"0 0 24 24\"\n",
              "       width=\"24px\">\n",
              "    <path d=\"M0 0h24v24H0V0z\" fill=\"none\"/>\n",
              "    <path d=\"M18.56 5.44l.94 2.06.94-2.06 2.06-.94-2.06-.94-.94-2.06-.94 2.06-2.06.94zm-11 1L8.5 8.5l.94-2.06 2.06-.94-2.06-.94L8.5 2.5l-.94 2.06-2.06.94zm10 10l.94 2.06.94-2.06 2.06-.94-2.06-.94-.94-2.06-.94 2.06-2.06.94z\"/><path d=\"M17.41 7.96l-1.37-1.37c-.4-.4-.92-.59-1.43-.59-.52 0-1.04.2-1.43.59L10.3 9.45l-7.72 7.72c-.78.78-.78 2.05 0 2.83L4 21.41c.39.39.9.59 1.41.59.51 0 1.02-.2 1.41-.59l7.78-7.78 2.81-2.81c.8-.78.8-2.07 0-2.86zM5.41 20L4 18.59l7.72-7.72 1.47 1.35L5.41 20z\"/>\n",
              "  </svg>\n",
              "      </button>\n",
              "      \n",
              "  <style>\n",
              "    .colab-df-container {\n",
              "      display:flex;\n",
              "      flex-wrap:wrap;\n",
              "      gap: 12px;\n",
              "    }\n",
              "\n",
              "    .colab-df-convert {\n",
              "      background-color: #E8F0FE;\n",
              "      border: none;\n",
              "      border-radius: 50%;\n",
              "      cursor: pointer;\n",
              "      display: none;\n",
              "      fill: #1967D2;\n",
              "      height: 32px;\n",
              "      padding: 0 0 0 0;\n",
              "      width: 32px;\n",
              "    }\n",
              "\n",
              "    .colab-df-convert:hover {\n",
              "      background-color: #E2EBFA;\n",
              "      box-shadow: 0px 1px 2px rgba(60, 64, 67, 0.3), 0px 1px 3px 1px rgba(60, 64, 67, 0.15);\n",
              "      fill: #174EA6;\n",
              "    }\n",
              "\n",
              "    [theme=dark] .colab-df-convert {\n",
              "      background-color: #3B4455;\n",
              "      fill: #D2E3FC;\n",
              "    }\n",
              "\n",
              "    [theme=dark] .colab-df-convert:hover {\n",
              "      background-color: #434B5C;\n",
              "      box-shadow: 0px 1px 3px 1px rgba(0, 0, 0, 0.15);\n",
              "      filter: drop-shadow(0px 1px 2px rgba(0, 0, 0, 0.3));\n",
              "      fill: #FFFFFF;\n",
              "    }\n",
              "  </style>\n",
              "\n",
              "      <script>\n",
              "        const buttonEl =\n",
              "          document.querySelector('#df-69544eb4-23ab-4fe7-aa6e-8fcbc7797fb0 button.colab-df-convert');\n",
              "        buttonEl.style.display =\n",
              "          google.colab.kernel.accessAllowed ? 'block' : 'none';\n",
              "\n",
              "        async function convertToInteractive(key) {\n",
              "          const element = document.querySelector('#df-69544eb4-23ab-4fe7-aa6e-8fcbc7797fb0');\n",
              "          const dataTable =\n",
              "            await google.colab.kernel.invokeFunction('convertToInteractive',\n",
              "                                                     [key], {});\n",
              "          if (!dataTable) return;\n",
              "\n",
              "          const docLinkHtml = 'Like what you see? Visit the ' +\n",
              "            '<a target=\"_blank\" href=https://colab.research.google.com/notebooks/data_table.ipynb>data table notebook</a>'\n",
              "            + ' to learn more about interactive tables.';\n",
              "          element.innerHTML = '';\n",
              "          dataTable['output_type'] = 'display_data';\n",
              "          await google.colab.output.renderOutput(dataTable, element);\n",
              "          const docLink = document.createElement('div');\n",
              "          docLink.innerHTML = docLinkHtml;\n",
              "          element.appendChild(docLink);\n",
              "        }\n",
              "      </script>\n",
              "    </div>\n",
              "  </div>\n",
              "  "
            ]
          },
          "metadata": {},
          "execution_count": 3
        }
      ]
    },
    {
      "cell_type": "code",
      "source": [
        "Wages.describe()"
      ],
      "metadata": {
        "colab": {
          "base_uri": "https://localhost:8080/",
          "height": 394
        },
        "id": "q-2EAruT0SPq",
        "outputId": "60e2205f-5540-486a-84b9-04b2eedce29f"
      },
      "execution_count": 4,
      "outputs": [
        {
          "output_type": "execute_result",
          "data": {
            "text/plain": [
              "             wage        educ      exper      tenure    nonwhite      female  \\\n",
              "count  526.000000  526.000000  526.00000  526.000000  526.000000  526.000000   \n",
              "mean     5.896103   12.562738   17.01711    5.104563    0.102662    0.479087   \n",
              "std      3.693086    2.769022   13.57216    7.224462    0.303805    0.500038   \n",
              "min      0.530000    0.000000    1.00000    0.000000    0.000000    0.000000   \n",
              "25%      3.330000   12.000000    5.00000    0.000000    0.000000    0.000000   \n",
              "50%      4.650000   12.000000   13.50000    2.000000    0.000000    0.000000   \n",
              "75%      6.880000   14.000000   26.00000    7.000000    0.000000    1.000000   \n",
              "max     24.980000   18.000000   51.00000   44.000000    1.000000    1.000000   \n",
              "\n",
              "          married      numdep        smsa    northcen  ...    trcommpu  \\\n",
              "count  526.000000  526.000000  526.000000  526.000000  ...  526.000000   \n",
              "mean     0.608365    1.043726    0.722433    0.250951  ...    0.043726   \n",
              "std      0.488580    1.261891    0.448225    0.433973  ...    0.204680   \n",
              "min      0.000000    0.000000    0.000000    0.000000  ...    0.000000   \n",
              "25%      0.000000    0.000000    0.000000    0.000000  ...    0.000000   \n",
              "50%      1.000000    1.000000    1.000000    0.000000  ...    0.000000   \n",
              "75%      1.000000    2.000000    1.000000    0.750000  ...    0.000000   \n",
              "max      1.000000    6.000000    1.000000    1.000000  ...    1.000000   \n",
              "\n",
              "            trade    services    profserv     profocc     clerocc     servocc  \\\n",
              "count  526.000000  526.000000  526.000000  526.000000  526.000000  526.000000   \n",
              "mean     0.287072    0.100760    0.258555    0.366920    0.167300    0.140684   \n",
              "std      0.452826    0.301298    0.438257    0.482423    0.373599    0.348027   \n",
              "min      0.000000    0.000000    0.000000    0.000000    0.000000    0.000000   \n",
              "25%      0.000000    0.000000    0.000000    0.000000    0.000000    0.000000   \n",
              "50%      0.000000    0.000000    0.000000    0.000000    0.000000    0.000000   \n",
              "75%      1.000000    0.000000    1.000000    1.000000    0.000000    0.000000   \n",
              "max      1.000000    1.000000    1.000000    1.000000    1.000000    1.000000   \n",
              "\n",
              "            lwage      expersq      tenursq  \n",
              "count  526.000000   526.000000   526.000000  \n",
              "mean     1.623268   473.435361    78.150190  \n",
              "std      0.531538   616.044772   199.434664  \n",
              "min     -0.634878     1.000000     0.000000  \n",
              "25%      1.202972    25.000000     0.000000  \n",
              "50%      1.536867   182.500000     4.000000  \n",
              "75%      1.928619   676.000000    49.000000  \n",
              "max      3.218076  2601.000000  1936.000000  \n",
              "\n",
              "[8 rows x 24 columns]"
            ],
            "text/html": [
              "\n",
              "  <div id=\"df-65dafc87-db92-4b39-89b7-38a1c7c8638f\">\n",
              "    <div class=\"colab-df-container\">\n",
              "      <div>\n",
              "<style scoped>\n",
              "    .dataframe tbody tr th:only-of-type {\n",
              "        vertical-align: middle;\n",
              "    }\n",
              "\n",
              "    .dataframe tbody tr th {\n",
              "        vertical-align: top;\n",
              "    }\n",
              "\n",
              "    .dataframe thead th {\n",
              "        text-align: right;\n",
              "    }\n",
              "</style>\n",
              "<table border=\"1\" class=\"dataframe\">\n",
              "  <thead>\n",
              "    <tr style=\"text-align: right;\">\n",
              "      <th></th>\n",
              "      <th>wage</th>\n",
              "      <th>educ</th>\n",
              "      <th>exper</th>\n",
              "      <th>tenure</th>\n",
              "      <th>nonwhite</th>\n",
              "      <th>female</th>\n",
              "      <th>married</th>\n",
              "      <th>numdep</th>\n",
              "      <th>smsa</th>\n",
              "      <th>northcen</th>\n",
              "      <th>...</th>\n",
              "      <th>trcommpu</th>\n",
              "      <th>trade</th>\n",
              "      <th>services</th>\n",
              "      <th>profserv</th>\n",
              "      <th>profocc</th>\n",
              "      <th>clerocc</th>\n",
              "      <th>servocc</th>\n",
              "      <th>lwage</th>\n",
              "      <th>expersq</th>\n",
              "      <th>tenursq</th>\n",
              "    </tr>\n",
              "  </thead>\n",
              "  <tbody>\n",
              "    <tr>\n",
              "      <th>count</th>\n",
              "      <td>526.000000</td>\n",
              "      <td>526.000000</td>\n",
              "      <td>526.00000</td>\n",
              "      <td>526.000000</td>\n",
              "      <td>526.000000</td>\n",
              "      <td>526.000000</td>\n",
              "      <td>526.000000</td>\n",
              "      <td>526.000000</td>\n",
              "      <td>526.000000</td>\n",
              "      <td>526.000000</td>\n",
              "      <td>...</td>\n",
              "      <td>526.000000</td>\n",
              "      <td>526.000000</td>\n",
              "      <td>526.000000</td>\n",
              "      <td>526.000000</td>\n",
              "      <td>526.000000</td>\n",
              "      <td>526.000000</td>\n",
              "      <td>526.000000</td>\n",
              "      <td>526.000000</td>\n",
              "      <td>526.000000</td>\n",
              "      <td>526.000000</td>\n",
              "    </tr>\n",
              "    <tr>\n",
              "      <th>mean</th>\n",
              "      <td>5.896103</td>\n",
              "      <td>12.562738</td>\n",
              "      <td>17.01711</td>\n",
              "      <td>5.104563</td>\n",
              "      <td>0.102662</td>\n",
              "      <td>0.479087</td>\n",
              "      <td>0.608365</td>\n",
              "      <td>1.043726</td>\n",
              "      <td>0.722433</td>\n",
              "      <td>0.250951</td>\n",
              "      <td>...</td>\n",
              "      <td>0.043726</td>\n",
              "      <td>0.287072</td>\n",
              "      <td>0.100760</td>\n",
              "      <td>0.258555</td>\n",
              "      <td>0.366920</td>\n",
              "      <td>0.167300</td>\n",
              "      <td>0.140684</td>\n",
              "      <td>1.623268</td>\n",
              "      <td>473.435361</td>\n",
              "      <td>78.150190</td>\n",
              "    </tr>\n",
              "    <tr>\n",
              "      <th>std</th>\n",
              "      <td>3.693086</td>\n",
              "      <td>2.769022</td>\n",
              "      <td>13.57216</td>\n",
              "      <td>7.224462</td>\n",
              "      <td>0.303805</td>\n",
              "      <td>0.500038</td>\n",
              "      <td>0.488580</td>\n",
              "      <td>1.261891</td>\n",
              "      <td>0.448225</td>\n",
              "      <td>0.433973</td>\n",
              "      <td>...</td>\n",
              "      <td>0.204680</td>\n",
              "      <td>0.452826</td>\n",
              "      <td>0.301298</td>\n",
              "      <td>0.438257</td>\n",
              "      <td>0.482423</td>\n",
              "      <td>0.373599</td>\n",
              "      <td>0.348027</td>\n",
              "      <td>0.531538</td>\n",
              "      <td>616.044772</td>\n",
              "      <td>199.434664</td>\n",
              "    </tr>\n",
              "    <tr>\n",
              "      <th>min</th>\n",
              "      <td>0.530000</td>\n",
              "      <td>0.000000</td>\n",
              "      <td>1.00000</td>\n",
              "      <td>0.000000</td>\n",
              "      <td>0.000000</td>\n",
              "      <td>0.000000</td>\n",
              "      <td>0.000000</td>\n",
              "      <td>0.000000</td>\n",
              "      <td>0.000000</td>\n",
              "      <td>0.000000</td>\n",
              "      <td>...</td>\n",
              "      <td>0.000000</td>\n",
              "      <td>0.000000</td>\n",
              "      <td>0.000000</td>\n",
              "      <td>0.000000</td>\n",
              "      <td>0.000000</td>\n",
              "      <td>0.000000</td>\n",
              "      <td>0.000000</td>\n",
              "      <td>-0.634878</td>\n",
              "      <td>1.000000</td>\n",
              "      <td>0.000000</td>\n",
              "    </tr>\n",
              "    <tr>\n",
              "      <th>25%</th>\n",
              "      <td>3.330000</td>\n",
              "      <td>12.000000</td>\n",
              "      <td>5.00000</td>\n",
              "      <td>0.000000</td>\n",
              "      <td>0.000000</td>\n",
              "      <td>0.000000</td>\n",
              "      <td>0.000000</td>\n",
              "      <td>0.000000</td>\n",
              "      <td>0.000000</td>\n",
              "      <td>0.000000</td>\n",
              "      <td>...</td>\n",
              "      <td>0.000000</td>\n",
              "      <td>0.000000</td>\n",
              "      <td>0.000000</td>\n",
              "      <td>0.000000</td>\n",
              "      <td>0.000000</td>\n",
              "      <td>0.000000</td>\n",
              "      <td>0.000000</td>\n",
              "      <td>1.202972</td>\n",
              "      <td>25.000000</td>\n",
              "      <td>0.000000</td>\n",
              "    </tr>\n",
              "    <tr>\n",
              "      <th>50%</th>\n",
              "      <td>4.650000</td>\n",
              "      <td>12.000000</td>\n",
              "      <td>13.50000</td>\n",
              "      <td>2.000000</td>\n",
              "      <td>0.000000</td>\n",
              "      <td>0.000000</td>\n",
              "      <td>1.000000</td>\n",
              "      <td>1.000000</td>\n",
              "      <td>1.000000</td>\n",
              "      <td>0.000000</td>\n",
              "      <td>...</td>\n",
              "      <td>0.000000</td>\n",
              "      <td>0.000000</td>\n",
              "      <td>0.000000</td>\n",
              "      <td>0.000000</td>\n",
              "      <td>0.000000</td>\n",
              "      <td>0.000000</td>\n",
              "      <td>0.000000</td>\n",
              "      <td>1.536867</td>\n",
              "      <td>182.500000</td>\n",
              "      <td>4.000000</td>\n",
              "    </tr>\n",
              "    <tr>\n",
              "      <th>75%</th>\n",
              "      <td>6.880000</td>\n",
              "      <td>14.000000</td>\n",
              "      <td>26.00000</td>\n",
              "      <td>7.000000</td>\n",
              "      <td>0.000000</td>\n",
              "      <td>1.000000</td>\n",
              "      <td>1.000000</td>\n",
              "      <td>2.000000</td>\n",
              "      <td>1.000000</td>\n",
              "      <td>0.750000</td>\n",
              "      <td>...</td>\n",
              "      <td>0.000000</td>\n",
              "      <td>1.000000</td>\n",
              "      <td>0.000000</td>\n",
              "      <td>1.000000</td>\n",
              "      <td>1.000000</td>\n",
              "      <td>0.000000</td>\n",
              "      <td>0.000000</td>\n",
              "      <td>1.928619</td>\n",
              "      <td>676.000000</td>\n",
              "      <td>49.000000</td>\n",
              "    </tr>\n",
              "    <tr>\n",
              "      <th>max</th>\n",
              "      <td>24.980000</td>\n",
              "      <td>18.000000</td>\n",
              "      <td>51.00000</td>\n",
              "      <td>44.000000</td>\n",
              "      <td>1.000000</td>\n",
              "      <td>1.000000</td>\n",
              "      <td>1.000000</td>\n",
              "      <td>6.000000</td>\n",
              "      <td>1.000000</td>\n",
              "      <td>1.000000</td>\n",
              "      <td>...</td>\n",
              "      <td>1.000000</td>\n",
              "      <td>1.000000</td>\n",
              "      <td>1.000000</td>\n",
              "      <td>1.000000</td>\n",
              "      <td>1.000000</td>\n",
              "      <td>1.000000</td>\n",
              "      <td>1.000000</td>\n",
              "      <td>3.218076</td>\n",
              "      <td>2601.000000</td>\n",
              "      <td>1936.000000</td>\n",
              "    </tr>\n",
              "  </tbody>\n",
              "</table>\n",
              "<p>8 rows × 24 columns</p>\n",
              "</div>\n",
              "      <button class=\"colab-df-convert\" onclick=\"convertToInteractive('df-65dafc87-db92-4b39-89b7-38a1c7c8638f')\"\n",
              "              title=\"Convert this dataframe to an interactive table.\"\n",
              "              style=\"display:none;\">\n",
              "        \n",
              "  <svg xmlns=\"http://www.w3.org/2000/svg\" height=\"24px\"viewBox=\"0 0 24 24\"\n",
              "       width=\"24px\">\n",
              "    <path d=\"M0 0h24v24H0V0z\" fill=\"none\"/>\n",
              "    <path d=\"M18.56 5.44l.94 2.06.94-2.06 2.06-.94-2.06-.94-.94-2.06-.94 2.06-2.06.94zm-11 1L8.5 8.5l.94-2.06 2.06-.94-2.06-.94L8.5 2.5l-.94 2.06-2.06.94zm10 10l.94 2.06.94-2.06 2.06-.94-2.06-.94-.94-2.06-.94 2.06-2.06.94z\"/><path d=\"M17.41 7.96l-1.37-1.37c-.4-.4-.92-.59-1.43-.59-.52 0-1.04.2-1.43.59L10.3 9.45l-7.72 7.72c-.78.78-.78 2.05 0 2.83L4 21.41c.39.39.9.59 1.41.59.51 0 1.02-.2 1.41-.59l7.78-7.78 2.81-2.81c.8-.78.8-2.07 0-2.86zM5.41 20L4 18.59l7.72-7.72 1.47 1.35L5.41 20z\"/>\n",
              "  </svg>\n",
              "      </button>\n",
              "      \n",
              "  <style>\n",
              "    .colab-df-container {\n",
              "      display:flex;\n",
              "      flex-wrap:wrap;\n",
              "      gap: 12px;\n",
              "    }\n",
              "\n",
              "    .colab-df-convert {\n",
              "      background-color: #E8F0FE;\n",
              "      border: none;\n",
              "      border-radius: 50%;\n",
              "      cursor: pointer;\n",
              "      display: none;\n",
              "      fill: #1967D2;\n",
              "      height: 32px;\n",
              "      padding: 0 0 0 0;\n",
              "      width: 32px;\n",
              "    }\n",
              "\n",
              "    .colab-df-convert:hover {\n",
              "      background-color: #E2EBFA;\n",
              "      box-shadow: 0px 1px 2px rgba(60, 64, 67, 0.3), 0px 1px 3px 1px rgba(60, 64, 67, 0.15);\n",
              "      fill: #174EA6;\n",
              "    }\n",
              "\n",
              "    [theme=dark] .colab-df-convert {\n",
              "      background-color: #3B4455;\n",
              "      fill: #D2E3FC;\n",
              "    }\n",
              "\n",
              "    [theme=dark] .colab-df-convert:hover {\n",
              "      background-color: #434B5C;\n",
              "      box-shadow: 0px 1px 3px 1px rgba(0, 0, 0, 0.15);\n",
              "      filter: drop-shadow(0px 1px 2px rgba(0, 0, 0, 0.3));\n",
              "      fill: #FFFFFF;\n",
              "    }\n",
              "  </style>\n",
              "\n",
              "      <script>\n",
              "        const buttonEl =\n",
              "          document.querySelector('#df-65dafc87-db92-4b39-89b7-38a1c7c8638f button.colab-df-convert');\n",
              "        buttonEl.style.display =\n",
              "          google.colab.kernel.accessAllowed ? 'block' : 'none';\n",
              "\n",
              "        async function convertToInteractive(key) {\n",
              "          const element = document.querySelector('#df-65dafc87-db92-4b39-89b7-38a1c7c8638f');\n",
              "          const dataTable =\n",
              "            await google.colab.kernel.invokeFunction('convertToInteractive',\n",
              "                                                     [key], {});\n",
              "          if (!dataTable) return;\n",
              "\n",
              "          const docLinkHtml = 'Like what you see? Visit the ' +\n",
              "            '<a target=\"_blank\" href=https://colab.research.google.com/notebooks/data_table.ipynb>data table notebook</a>'\n",
              "            + ' to learn more about interactive tables.';\n",
              "          element.innerHTML = '';\n",
              "          dataTable['output_type'] = 'display_data';\n",
              "          await google.colab.output.renderOutput(dataTable, element);\n",
              "          const docLink = document.createElement('div');\n",
              "          docLink.innerHTML = docLinkHtml;\n",
              "          element.appendChild(docLink);\n",
              "        }\n",
              "      </script>\n",
              "    </div>\n",
              "  </div>\n",
              "  "
            ]
          },
          "metadata": {},
          "execution_count": 4
        }
      ]
    },
    {
      "cell_type": "code",
      "source": [
        "type(Wages)"
      ],
      "metadata": {
        "colab": {
          "base_uri": "https://localhost:8080/"
        },
        "id": "xPiVcFZAzh1t",
        "outputId": "b6b649af-4e47-4960-bf8f-7df5a1f22a27"
      },
      "execution_count": 5,
      "outputs": [
        {
          "output_type": "execute_result",
          "data": {
            "text/plain": [
              "pandas.core.frame.DataFrame"
            ]
          },
          "metadata": {},
          "execution_count": 5
        }
      ]
    },
    {
      "cell_type": "code",
      "source": [
        "Wages.columns"
      ],
      "metadata": {
        "colab": {
          "base_uri": "https://localhost:8080/"
        },
        "id": "ly3qzE39wigO",
        "outputId": "962ce952-721c-4cc9-fab9-b5b9479d7706"
      },
      "execution_count": 6,
      "outputs": [
        {
          "output_type": "execute_result",
          "data": {
            "text/plain": [
              "Index(['wage', 'educ', 'exper', 'tenure', 'nonwhite', 'female', 'married',\n",
              "       'numdep', 'smsa', 'northcen', 'south', 'west', 'construc', 'ndurman',\n",
              "       'trcommpu', 'trade', 'services', 'profserv', 'profocc', 'clerocc',\n",
              "       'servocc', 'lwage', 'expersq', 'tenursq'],\n",
              "      dtype='object')"
            ]
          },
          "metadata": {},
          "execution_count": 6
        }
      ]
    },
    {
      "cell_type": "markdown",
      "source": [
        "## Let's interact female with educ:"
      ],
      "metadata": {
        "id": "g9VnN4j6wlJu"
      }
    },
    {
      "cell_type": "code",
      "source": [
        "# We impose a simple, linear, model: \n",
        "# We specify CeoSalaries as the empirical dataset\n",
        "\n",
        "reg = smf.ols(formula='np.log(wage) ~female+educ+female*educ+exper+np.power(exper,2)+tenure+np.power(tenure,2)', data=Wages)"
      ],
      "metadata": {
        "id": "xNYUa6c-0ZYd"
      },
      "execution_count": 10,
      "outputs": []
    },
    {
      "cell_type": "code",
      "source": [],
      "metadata": {
        "id": "ZdL3SnmTzm50"
      },
      "execution_count": null,
      "outputs": []
    },
    {
      "cell_type": "code",
      "source": [],
      "metadata": {
        "id": "P9g5KYvDzm1W"
      },
      "execution_count": null,
      "outputs": []
    },
    {
      "cell_type": "code",
      "source": [],
      "metadata": {
        "id": "hWHSyFGmzmyf"
      },
      "execution_count": null,
      "outputs": []
    },
    {
      "cell_type": "code",
      "source": [],
      "metadata": {
        "id": "Y1PSQhlgzmv8"
      },
      "execution_count": null,
      "outputs": []
    },
    {
      "cell_type": "code",
      "source": [
        "# We fit the model\n",
        "results = reg.fit()\n"
      ],
      "metadata": {
        "id": "ykd6_iLT0AU_"
      },
      "execution_count": 11,
      "outputs": []
    },
    {
      "cell_type": "code",
      "source": [
        "b = results.params\n",
        "print(f'b: \\n{b}\\n')"
      ],
      "metadata": {
        "colab": {
          "base_uri": "https://localhost:8080/"
        },
        "id": "6C-KSKSJ0eJL",
        "outputId": "7ab20176-825c-4926-f43a-68c82a87d62b"
      },
      "execution_count": 12,
      "outputs": [
        {
          "output_type": "stream",
          "name": "stdout",
          "text": [
            "b: \n",
            "Intercept              0.388806\n",
            "female                -0.226789\n",
            "educ                   0.082369\n",
            "female:educ           -0.005565\n",
            "exper                  0.029337\n",
            "np.power(exper, 2)    -0.000580\n",
            "tenure                 0.031897\n",
            "np.power(tenure, 2)   -0.000590\n",
            "dtype: float64\n",
            "\n"
          ]
        }
      ]
    },
    {
      "cell_type": "code",
      "source": [
        "print(results.summary())"
      ],
      "metadata": {
        "colab": {
          "base_uri": "https://localhost:8080/"
        },
        "id": "rDF5M4Rf56MS",
        "outputId": "19341dd2-91e2-476e-f5dc-50479454e269"
      },
      "execution_count": 13,
      "outputs": [
        {
          "output_type": "stream",
          "name": "stdout",
          "text": [
            "                            OLS Regression Results                            \n",
            "==============================================================================\n",
            "Dep. Variable:           np.log(wage)   R-squared:                       0.441\n",
            "Model:                            OLS   Adj. R-squared:                  0.433\n",
            "Method:                 Least Squares   F-statistic:                     58.37\n",
            "Date:                Sun, 20 Nov 2022   Prob (F-statistic):           1.67e-61\n",
            "Time:                        20:30:43   Log-Likelihood:                -260.49\n",
            "No. Observations:                 526   AIC:                             537.0\n",
            "Df Residuals:                     518   BIC:                             571.1\n",
            "Df Model:                           7                                         \n",
            "Covariance Type:            nonrobust                                         \n",
            "=======================================================================================\n",
            "                          coef    std err          t      P>|t|      [0.025      0.975]\n",
            "---------------------------------------------------------------------------------------\n",
            "Intercept               0.3888      0.119      3.276      0.001       0.156       0.622\n",
            "female                 -0.2268      0.168     -1.354      0.176      -0.556       0.102\n",
            "educ                    0.0824      0.008      9.725      0.000       0.066       0.099\n",
            "female:educ            -0.0056      0.013     -0.426      0.670      -0.031       0.020\n",
            "exper                   0.0293      0.005      5.886      0.000       0.020       0.039\n",
            "np.power(exper, 2)     -0.0006      0.000     -5.398      0.000      -0.001      -0.000\n",
            "tenure                  0.0319      0.007      4.647      0.000       0.018       0.045\n",
            "np.power(tenure, 2)    -0.0006      0.000     -2.509      0.012      -0.001      -0.000\n",
            "==============================================================================\n",
            "Omnibus:                       13.302   Durbin-Watson:                   1.795\n",
            "Prob(Omnibus):                  0.001   Jarque-Bera (JB):               24.887\n",
            "Skew:                          -0.080   Prob(JB):                     3.94e-06\n",
            "Kurtosis:                       4.053   Cond. No.                     8.41e+03\n",
            "==============================================================================\n",
            "\n",
            "Notes:\n",
            "[1] Standard Errors assume that the covariance matrix of the errors is correctly specified.\n",
            "[2] The condition number is large, 8.41e+03. This might indicate that there are\n",
            "strong multicollinearity or other numerical problems.\n"
          ]
        }
      ]
    },
    {
      "cell_type": "markdown",
      "source": [
        "## How do we interpret the equation?\n",
        "\n",
        "#### The R-squared in relatively large (R-squared=0.44).\n",
        "#### The F-statistic is large (58.37) with p-value close to zero. Therefore the model is statistically significant.\n",
        "\n",
        "\n",
        "\n",
        "\n"
      ],
      "metadata": {
        "id": "gXrsythK1wue"
      }
    },
    {
      "cell_type": "markdown",
      "source": [
        "# In regards to the Hypotheses:\n",
        "\n",
        "$H_0:\\delta_1=0$\n",
        "\n",
        "#### Given the t-statistic for the $\\delta_1$ corresponding to $female*educ$ and its p-value (-0.426 and 0.670 respectively) we conclude that it is not statistically significant. Moreover the confidence interval crosses the cero [-0.031:0.020] thus providing strong evidence that the coefficient is close to cero."
      ],
      "metadata": {
        "id": "ETh2iTz7xMN7"
      }
    },
    {
      "cell_type": "code",
      "source": [],
      "metadata": {
        "id": "DfLumdyFyxHj"
      },
      "execution_count": null,
      "outputs": []
    },
    {
      "cell_type": "markdown",
      "source": [
        "# In regards to the Hypotheses:\n",
        "\n",
        "$H_1:\\delta_0=0, \\delta_1=0$"
      ],
      "metadata": {
        "id": "Y_5kH_qXzaD0"
      }
    },
    {
      "cell_type": "code",
      "source": [
        "# automated F test:\n",
        "hypotheses = ['female = 0', 'female:educ = 0']\n",
        "ftest = results.f_test(hypotheses)\n",
        "fstat = ftest.statistic[0][0]\n",
        "fpval = ftest.pvalue"
      ],
      "metadata": {
        "id": "lZ5BrK4jHgAh"
      },
      "execution_count": 14,
      "outputs": []
    },
    {
      "cell_type": "code",
      "source": [
        "print(f'F statistic: {fstat}\\n')\n",
        "print(f'F p-value: {fpval}\\n')"
      ],
      "metadata": {
        "colab": {
          "base_uri": "https://localhost:8080/"
        },
        "id": "je-4RAs1zPjp",
        "outputId": "4e1b4747-572f-44a8-aaae-856b6961ba07"
      },
      "execution_count": 15,
      "outputs": [
        {
          "output_type": "stream",
          "name": "stdout",
          "text": [
            "F statistic: 34.32554896206902\n",
            "\n",
            "F p-value: 1.0023440921149353e-14\n",
            "\n"
          ]
        }
      ]
    },
    {
      "cell_type": "markdown",
      "source": [
        "Based on the previous result:\n",
        "The F-statistic is large (34.32) and its associated p-value is almost cero.\n",
        "Therefore we reject the null hypothesis that female and female*educ have no effect on salary\n",
        "Therefore gender DOES HAVE an impact on salary, also gender DOES HAVE and impact on the return on education (educated women earn less than their male counterparts with the same level of education).\n"
      ],
      "metadata": {
        "id": "eNR1rhbWzkMS"
      }
    }
  ]
}