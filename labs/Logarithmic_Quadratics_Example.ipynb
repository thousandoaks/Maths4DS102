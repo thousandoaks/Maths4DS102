{
  "nbformat": 4,
  "nbformat_minor": 0,
  "metadata": {
    "colab": {
      "provenance": [],
      "authorship_tag": "ABX9TyMJRJSTylIHGJSYljXV8Oth"
    },
    "kernelspec": {
      "name": "python3",
      "display_name": "Python 3"
    },
    "language_info": {
      "name": "python"
    }
  },
  "cells": [
    {
      "cell_type": "markdown",
      "source": [
        "# Logarithmic and Quadratic functional form (Example )"
      ],
      "metadata": {
        "id": "9Koy8IdCva-p"
      }
    },
    {
      "cell_type": "markdown",
      "source": [
        "### Intro and objectives\n",
        "#### Understand the application of logarithmic and quadratic functional forms in linear regression models\n",
        "\n",
        "### In this lab you will learn:\n",
        "1. examples of quadratic functional forms applied to simple regression models.\n",
        "2. how to fit advanced regression models in Python.\n",
        "\n",
        "\n",
        "## What I hope you'll get out of this lab\n",
        "* Fit more advanced linear regression models\n",
        "* How to interpret the results obtained"
      ],
      "metadata": {
        "id": "DiOUGkzJvkIq"
      }
    },
    {
      "cell_type": "code",
      "execution_count": 1,
      "metadata": {
        "colab": {
          "base_uri": "https://localhost:8080/"
        },
        "id": "31p3EWLtvZq_",
        "outputId": "292aa299-ecb6-4644-f588-c866c4b13e45"
      },
      "outputs": [
        {
          "output_type": "stream",
          "name": "stdout",
          "text": [
            "Looking in indexes: https://pypi.org/simple, https://us-python.pkg.dev/colab-wheels/public/simple/\n",
            "Collecting wooldridge\n",
            "  Downloading wooldridge-0.4.4-py3-none-any.whl (5.1 MB)\n",
            "\u001b[K     |████████████████████████████████| 5.1 MB 13.2 MB/s \n",
            "\u001b[?25hRequirement already satisfied: pandas in /usr/local/lib/python3.7/dist-packages (from wooldridge) (1.3.5)\n",
            "Requirement already satisfied: pytz>=2017.3 in /usr/local/lib/python3.7/dist-packages (from pandas->wooldridge) (2022.6)\n",
            "Requirement already satisfied: python-dateutil>=2.7.3 in /usr/local/lib/python3.7/dist-packages (from pandas->wooldridge) (2.8.2)\n",
            "Requirement already satisfied: numpy>=1.17.3 in /usr/local/lib/python3.7/dist-packages (from pandas->wooldridge) (1.21.6)\n",
            "Requirement already satisfied: six>=1.5 in /usr/local/lib/python3.7/dist-packages (from python-dateutil>=2.7.3->pandas->wooldridge) (1.15.0)\n",
            "Installing collected packages: wooldridge\n",
            "Successfully installed wooldridge-0.4.4\n"
          ]
        }
      ],
      "source": [
        "!pip install wooldridge\n",
        "import wooldridge as woo\n",
        "import statsmodels.formula.api as smf\n",
        "import matplotlib.pyplot as plt\n",
        "import seaborn as sns\n",
        "import numpy as np"
      ]
    },
    {
      "cell_type": "markdown",
      "source": [
        "# Example 1. Housing prices and air pollution\n",
        "\n",
        "#### For a sample of 506 communities in the Boston area, we estimate a model relating median housing price (price) in the community to various community characteristics: nox is the amount of nitrogen oxide in the air, in parts per million; dist is a weighted distance of the community from five employment centers, in miles; rooms is the average number of rooms in houses in the community; and stratio is the average student-teacher ratio of schools in the community."
      ],
      "metadata": {
        "id": "aEHpzweDwqTa"
      }
    },
    {
      "cell_type": "markdown",
      "source": [
        "\n",
        "\n",
        "#### To study the relationship between housing prices and external factors , we postulate the following model:\n",
        "\n",
        "$ log(price)=\\beta_0+\\beta_1*log(nox)+\\beta_2*log(dist)+\\beta_3*rooms+\\beta_4*stratio+u $\n",
        "\n"
      ],
      "metadata": {
        "id": "qHmLOQ7MxEbJ"
      }
    },
    {
      "cell_type": "markdown",
      "source": [
        "### Using the data in HPRICE2 where n=506 individuals"
      ],
      "metadata": {
        "id": "D1fR69Bky4iO"
      }
    },
    {
      "cell_type": "code",
      "source": [
        "hprice2 = woo.dataWoo('hprice2')\n"
      ],
      "metadata": {
        "id": "2ma8vEoPxGI_"
      },
      "execution_count": 23,
      "outputs": []
    },
    {
      "cell_type": "code",
      "source": [
        "hprice2.head()"
      ],
      "metadata": {
        "colab": {
          "base_uri": "https://localhost:8080/",
          "height": 236
        },
        "id": "uNliv4ZZ0OeX",
        "outputId": "1f1a001f-79f0-4589-f7f4-32f8ba7c02aa"
      },
      "execution_count": 3,
      "outputs": [
        {
          "output_type": "execute_result",
          "data": {
            "text/plain": [
              "   wage  educ  exper  tenure  nonwhite  female  married  numdep  smsa  \\\n",
              "0  3.10    11      2       0         0       1        0       2     1   \n",
              "1  3.24    12     22       2         0       1        1       3     1   \n",
              "2  3.00    11      2       0         0       0        0       2     0   \n",
              "3  6.00     8     44      28         0       0        1       0     1   \n",
              "4  5.30    12      7       2         0       0        1       1     0   \n",
              "\n",
              "   northcen  ...  trcommpu  trade  services  profserv  profocc  clerocc  \\\n",
              "0         0  ...         0      0         0         0        0        0   \n",
              "1         0  ...         0      0         1         0        0        0   \n",
              "2         0  ...         0      1         0         0        0        0   \n",
              "3         0  ...         0      0         0         0        0        1   \n",
              "4         0  ...         0      0         0         0        0        0   \n",
              "\n",
              "   servocc     lwage  expersq  tenursq  \n",
              "0        0  1.131402        4        0  \n",
              "1        1  1.175573      484        4  \n",
              "2        0  1.098612        4        0  \n",
              "3        0  1.791759     1936      784  \n",
              "4        0  1.667707       49        4  \n",
              "\n",
              "[5 rows x 24 columns]"
            ],
            "text/html": [
              "\n",
              "  <div id=\"df-251d0d4e-c332-462e-8622-0ca8ad134b83\">\n",
              "    <div class=\"colab-df-container\">\n",
              "      <div>\n",
              "<style scoped>\n",
              "    .dataframe tbody tr th:only-of-type {\n",
              "        vertical-align: middle;\n",
              "    }\n",
              "\n",
              "    .dataframe tbody tr th {\n",
              "        vertical-align: top;\n",
              "    }\n",
              "\n",
              "    .dataframe thead th {\n",
              "        text-align: right;\n",
              "    }\n",
              "</style>\n",
              "<table border=\"1\" class=\"dataframe\">\n",
              "  <thead>\n",
              "    <tr style=\"text-align: right;\">\n",
              "      <th></th>\n",
              "      <th>wage</th>\n",
              "      <th>educ</th>\n",
              "      <th>exper</th>\n",
              "      <th>tenure</th>\n",
              "      <th>nonwhite</th>\n",
              "      <th>female</th>\n",
              "      <th>married</th>\n",
              "      <th>numdep</th>\n",
              "      <th>smsa</th>\n",
              "      <th>northcen</th>\n",
              "      <th>...</th>\n",
              "      <th>trcommpu</th>\n",
              "      <th>trade</th>\n",
              "      <th>services</th>\n",
              "      <th>profserv</th>\n",
              "      <th>profocc</th>\n",
              "      <th>clerocc</th>\n",
              "      <th>servocc</th>\n",
              "      <th>lwage</th>\n",
              "      <th>expersq</th>\n",
              "      <th>tenursq</th>\n",
              "    </tr>\n",
              "  </thead>\n",
              "  <tbody>\n",
              "    <tr>\n",
              "      <th>0</th>\n",
              "      <td>3.10</td>\n",
              "      <td>11</td>\n",
              "      <td>2</td>\n",
              "      <td>0</td>\n",
              "      <td>0</td>\n",
              "      <td>1</td>\n",
              "      <td>0</td>\n",
              "      <td>2</td>\n",
              "      <td>1</td>\n",
              "      <td>0</td>\n",
              "      <td>...</td>\n",
              "      <td>0</td>\n",
              "      <td>0</td>\n",
              "      <td>0</td>\n",
              "      <td>0</td>\n",
              "      <td>0</td>\n",
              "      <td>0</td>\n",
              "      <td>0</td>\n",
              "      <td>1.131402</td>\n",
              "      <td>4</td>\n",
              "      <td>0</td>\n",
              "    </tr>\n",
              "    <tr>\n",
              "      <th>1</th>\n",
              "      <td>3.24</td>\n",
              "      <td>12</td>\n",
              "      <td>22</td>\n",
              "      <td>2</td>\n",
              "      <td>0</td>\n",
              "      <td>1</td>\n",
              "      <td>1</td>\n",
              "      <td>3</td>\n",
              "      <td>1</td>\n",
              "      <td>0</td>\n",
              "      <td>...</td>\n",
              "      <td>0</td>\n",
              "      <td>0</td>\n",
              "      <td>1</td>\n",
              "      <td>0</td>\n",
              "      <td>0</td>\n",
              "      <td>0</td>\n",
              "      <td>1</td>\n",
              "      <td>1.175573</td>\n",
              "      <td>484</td>\n",
              "      <td>4</td>\n",
              "    </tr>\n",
              "    <tr>\n",
              "      <th>2</th>\n",
              "      <td>3.00</td>\n",
              "      <td>11</td>\n",
              "      <td>2</td>\n",
              "      <td>0</td>\n",
              "      <td>0</td>\n",
              "      <td>0</td>\n",
              "      <td>0</td>\n",
              "      <td>2</td>\n",
              "      <td>0</td>\n",
              "      <td>0</td>\n",
              "      <td>...</td>\n",
              "      <td>0</td>\n",
              "      <td>1</td>\n",
              "      <td>0</td>\n",
              "      <td>0</td>\n",
              "      <td>0</td>\n",
              "      <td>0</td>\n",
              "      <td>0</td>\n",
              "      <td>1.098612</td>\n",
              "      <td>4</td>\n",
              "      <td>0</td>\n",
              "    </tr>\n",
              "    <tr>\n",
              "      <th>3</th>\n",
              "      <td>6.00</td>\n",
              "      <td>8</td>\n",
              "      <td>44</td>\n",
              "      <td>28</td>\n",
              "      <td>0</td>\n",
              "      <td>0</td>\n",
              "      <td>1</td>\n",
              "      <td>0</td>\n",
              "      <td>1</td>\n",
              "      <td>0</td>\n",
              "      <td>...</td>\n",
              "      <td>0</td>\n",
              "      <td>0</td>\n",
              "      <td>0</td>\n",
              "      <td>0</td>\n",
              "      <td>0</td>\n",
              "      <td>1</td>\n",
              "      <td>0</td>\n",
              "      <td>1.791759</td>\n",
              "      <td>1936</td>\n",
              "      <td>784</td>\n",
              "    </tr>\n",
              "    <tr>\n",
              "      <th>4</th>\n",
              "      <td>5.30</td>\n",
              "      <td>12</td>\n",
              "      <td>7</td>\n",
              "      <td>2</td>\n",
              "      <td>0</td>\n",
              "      <td>0</td>\n",
              "      <td>1</td>\n",
              "      <td>1</td>\n",
              "      <td>0</td>\n",
              "      <td>0</td>\n",
              "      <td>...</td>\n",
              "      <td>0</td>\n",
              "      <td>0</td>\n",
              "      <td>0</td>\n",
              "      <td>0</td>\n",
              "      <td>0</td>\n",
              "      <td>0</td>\n",
              "      <td>0</td>\n",
              "      <td>1.667707</td>\n",
              "      <td>49</td>\n",
              "      <td>4</td>\n",
              "    </tr>\n",
              "  </tbody>\n",
              "</table>\n",
              "<p>5 rows × 24 columns</p>\n",
              "</div>\n",
              "      <button class=\"colab-df-convert\" onclick=\"convertToInteractive('df-251d0d4e-c332-462e-8622-0ca8ad134b83')\"\n",
              "              title=\"Convert this dataframe to an interactive table.\"\n",
              "              style=\"display:none;\">\n",
              "        \n",
              "  <svg xmlns=\"http://www.w3.org/2000/svg\" height=\"24px\"viewBox=\"0 0 24 24\"\n",
              "       width=\"24px\">\n",
              "    <path d=\"M0 0h24v24H0V0z\" fill=\"none\"/>\n",
              "    <path d=\"M18.56 5.44l.94 2.06.94-2.06 2.06-.94-2.06-.94-.94-2.06-.94 2.06-2.06.94zm-11 1L8.5 8.5l.94-2.06 2.06-.94-2.06-.94L8.5 2.5l-.94 2.06-2.06.94zm10 10l.94 2.06.94-2.06 2.06-.94-2.06-.94-.94-2.06-.94 2.06-2.06.94z\"/><path d=\"M17.41 7.96l-1.37-1.37c-.4-.4-.92-.59-1.43-.59-.52 0-1.04.2-1.43.59L10.3 9.45l-7.72 7.72c-.78.78-.78 2.05 0 2.83L4 21.41c.39.39.9.59 1.41.59.51 0 1.02-.2 1.41-.59l7.78-7.78 2.81-2.81c.8-.78.8-2.07 0-2.86zM5.41 20L4 18.59l7.72-7.72 1.47 1.35L5.41 20z\"/>\n",
              "  </svg>\n",
              "      </button>\n",
              "      \n",
              "  <style>\n",
              "    .colab-df-container {\n",
              "      display:flex;\n",
              "      flex-wrap:wrap;\n",
              "      gap: 12px;\n",
              "    }\n",
              "\n",
              "    .colab-df-convert {\n",
              "      background-color: #E8F0FE;\n",
              "      border: none;\n",
              "      border-radius: 50%;\n",
              "      cursor: pointer;\n",
              "      display: none;\n",
              "      fill: #1967D2;\n",
              "      height: 32px;\n",
              "      padding: 0 0 0 0;\n",
              "      width: 32px;\n",
              "    }\n",
              "\n",
              "    .colab-df-convert:hover {\n",
              "      background-color: #E2EBFA;\n",
              "      box-shadow: 0px 1px 2px rgba(60, 64, 67, 0.3), 0px 1px 3px 1px rgba(60, 64, 67, 0.15);\n",
              "      fill: #174EA6;\n",
              "    }\n",
              "\n",
              "    [theme=dark] .colab-df-convert {\n",
              "      background-color: #3B4455;\n",
              "      fill: #D2E3FC;\n",
              "    }\n",
              "\n",
              "    [theme=dark] .colab-df-convert:hover {\n",
              "      background-color: #434B5C;\n",
              "      box-shadow: 0px 1px 3px 1px rgba(0, 0, 0, 0.15);\n",
              "      filter: drop-shadow(0px 1px 2px rgba(0, 0, 0, 0.3));\n",
              "      fill: #FFFFFF;\n",
              "    }\n",
              "  </style>\n",
              "\n",
              "      <script>\n",
              "        const buttonEl =\n",
              "          document.querySelector('#df-251d0d4e-c332-462e-8622-0ca8ad134b83 button.colab-df-convert');\n",
              "        buttonEl.style.display =\n",
              "          google.colab.kernel.accessAllowed ? 'block' : 'none';\n",
              "\n",
              "        async function convertToInteractive(key) {\n",
              "          const element = document.querySelector('#df-251d0d4e-c332-462e-8622-0ca8ad134b83');\n",
              "          const dataTable =\n",
              "            await google.colab.kernel.invokeFunction('convertToInteractive',\n",
              "                                                     [key], {});\n",
              "          if (!dataTable) return;\n",
              "\n",
              "          const docLinkHtml = 'Like what you see? Visit the ' +\n",
              "            '<a target=\"_blank\" href=https://colab.research.google.com/notebooks/data_table.ipynb>data table notebook</a>'\n",
              "            + ' to learn more about interactive tables.';\n",
              "          element.innerHTML = '';\n",
              "          dataTable['output_type'] = 'display_data';\n",
              "          await google.colab.output.renderOutput(dataTable, element);\n",
              "          const docLink = document.createElement('div');\n",
              "          docLink.innerHTML = docLinkHtml;\n",
              "          element.appendChild(docLink);\n",
              "        }\n",
              "      </script>\n",
              "    </div>\n",
              "  </div>\n",
              "  "
            ]
          },
          "metadata": {},
          "execution_count": 3
        }
      ]
    },
    {
      "cell_type": "code",
      "source": [
        "hprice2.describe()"
      ],
      "metadata": {
        "colab": {
          "base_uri": "https://localhost:8080/",
          "height": 300
        },
        "id": "q-2EAruT0SPq",
        "outputId": "4cd61dae-5ed8-4aa1-f1c6-e2798c0e03aa"
      },
      "execution_count": 24,
      "outputs": [
        {
          "output_type": "execute_result",
          "data": {
            "text/plain": [
              "              price       crime         nox       rooms        dist  \\\n",
              "count    506.000000  506.000000  506.000000  506.000000  506.000000   \n",
              "mean   22511.509881    3.611536    5.549783    6.284051    3.795751   \n",
              "std     9208.856171    8.590247    1.158395    0.702594    2.106137   \n",
              "min     5000.000000    0.006000    3.850000    3.560000    1.130000   \n",
              "25%    16850.000000    0.082000    4.490000    5.882500    2.100000   \n",
              "50%    21200.000000    0.256500    5.380000    6.210000    3.210000   \n",
              "75%    24999.000000    3.677000    6.240000    6.620000    5.187500   \n",
              "max    50001.000000   88.975998    8.710000    8.780000   12.130000   \n",
              "\n",
              "           radial     proptax     stratio     lowstat      lprice        lnox  \\\n",
              "count  506.000000  506.000000  506.000000  506.000000  506.000000  506.000000   \n",
              "mean     9.549407   40.823715   18.459289   12.701482    9.941057    1.693091   \n",
              "std      8.707259   16.853711    2.165820    7.238066    0.409255    0.201410   \n",
              "min      1.000000   18.700001   12.600000    1.730000    8.517193    1.348073   \n",
              "25%      4.000000   27.900000   17.400000    6.922500    9.732093    1.501853   \n",
              "50%      5.000000   33.000000   19.100000   11.360000    9.961757    1.682688   \n",
              "75%     24.000000   66.599998   20.200001   17.057500   10.126591    1.830980   \n",
              "max     24.000000   71.099998   22.000000   39.070000   10.819798    2.164472   \n",
              "\n",
              "         lproptax  \n",
              "count  506.000000  \n",
              "mean     5.931405  \n",
              "std      0.396367  \n",
              "min      5.231109  \n",
              "25%      5.631212  \n",
              "50%      5.799093  \n",
              "75%      6.501290  \n",
              "max      6.566672  "
            ],
            "text/html": [
              "\n",
              "  <div id=\"df-3145e988-a60d-4af5-9eb8-b2fd22abea06\">\n",
              "    <div class=\"colab-df-container\">\n",
              "      <div>\n",
              "<style scoped>\n",
              "    .dataframe tbody tr th:only-of-type {\n",
              "        vertical-align: middle;\n",
              "    }\n",
              "\n",
              "    .dataframe tbody tr th {\n",
              "        vertical-align: top;\n",
              "    }\n",
              "\n",
              "    .dataframe thead th {\n",
              "        text-align: right;\n",
              "    }\n",
              "</style>\n",
              "<table border=\"1\" class=\"dataframe\">\n",
              "  <thead>\n",
              "    <tr style=\"text-align: right;\">\n",
              "      <th></th>\n",
              "      <th>price</th>\n",
              "      <th>crime</th>\n",
              "      <th>nox</th>\n",
              "      <th>rooms</th>\n",
              "      <th>dist</th>\n",
              "      <th>radial</th>\n",
              "      <th>proptax</th>\n",
              "      <th>stratio</th>\n",
              "      <th>lowstat</th>\n",
              "      <th>lprice</th>\n",
              "      <th>lnox</th>\n",
              "      <th>lproptax</th>\n",
              "    </tr>\n",
              "  </thead>\n",
              "  <tbody>\n",
              "    <tr>\n",
              "      <th>count</th>\n",
              "      <td>506.000000</td>\n",
              "      <td>506.000000</td>\n",
              "      <td>506.000000</td>\n",
              "      <td>506.000000</td>\n",
              "      <td>506.000000</td>\n",
              "      <td>506.000000</td>\n",
              "      <td>506.000000</td>\n",
              "      <td>506.000000</td>\n",
              "      <td>506.000000</td>\n",
              "      <td>506.000000</td>\n",
              "      <td>506.000000</td>\n",
              "      <td>506.000000</td>\n",
              "    </tr>\n",
              "    <tr>\n",
              "      <th>mean</th>\n",
              "      <td>22511.509881</td>\n",
              "      <td>3.611536</td>\n",
              "      <td>5.549783</td>\n",
              "      <td>6.284051</td>\n",
              "      <td>3.795751</td>\n",
              "      <td>9.549407</td>\n",
              "      <td>40.823715</td>\n",
              "      <td>18.459289</td>\n",
              "      <td>12.701482</td>\n",
              "      <td>9.941057</td>\n",
              "      <td>1.693091</td>\n",
              "      <td>5.931405</td>\n",
              "    </tr>\n",
              "    <tr>\n",
              "      <th>std</th>\n",
              "      <td>9208.856171</td>\n",
              "      <td>8.590247</td>\n",
              "      <td>1.158395</td>\n",
              "      <td>0.702594</td>\n",
              "      <td>2.106137</td>\n",
              "      <td>8.707259</td>\n",
              "      <td>16.853711</td>\n",
              "      <td>2.165820</td>\n",
              "      <td>7.238066</td>\n",
              "      <td>0.409255</td>\n",
              "      <td>0.201410</td>\n",
              "      <td>0.396367</td>\n",
              "    </tr>\n",
              "    <tr>\n",
              "      <th>min</th>\n",
              "      <td>5000.000000</td>\n",
              "      <td>0.006000</td>\n",
              "      <td>3.850000</td>\n",
              "      <td>3.560000</td>\n",
              "      <td>1.130000</td>\n",
              "      <td>1.000000</td>\n",
              "      <td>18.700001</td>\n",
              "      <td>12.600000</td>\n",
              "      <td>1.730000</td>\n",
              "      <td>8.517193</td>\n",
              "      <td>1.348073</td>\n",
              "      <td>5.231109</td>\n",
              "    </tr>\n",
              "    <tr>\n",
              "      <th>25%</th>\n",
              "      <td>16850.000000</td>\n",
              "      <td>0.082000</td>\n",
              "      <td>4.490000</td>\n",
              "      <td>5.882500</td>\n",
              "      <td>2.100000</td>\n",
              "      <td>4.000000</td>\n",
              "      <td>27.900000</td>\n",
              "      <td>17.400000</td>\n",
              "      <td>6.922500</td>\n",
              "      <td>9.732093</td>\n",
              "      <td>1.501853</td>\n",
              "      <td>5.631212</td>\n",
              "    </tr>\n",
              "    <tr>\n",
              "      <th>50%</th>\n",
              "      <td>21200.000000</td>\n",
              "      <td>0.256500</td>\n",
              "      <td>5.380000</td>\n",
              "      <td>6.210000</td>\n",
              "      <td>3.210000</td>\n",
              "      <td>5.000000</td>\n",
              "      <td>33.000000</td>\n",
              "      <td>19.100000</td>\n",
              "      <td>11.360000</td>\n",
              "      <td>9.961757</td>\n",
              "      <td>1.682688</td>\n",
              "      <td>5.799093</td>\n",
              "    </tr>\n",
              "    <tr>\n",
              "      <th>75%</th>\n",
              "      <td>24999.000000</td>\n",
              "      <td>3.677000</td>\n",
              "      <td>6.240000</td>\n",
              "      <td>6.620000</td>\n",
              "      <td>5.187500</td>\n",
              "      <td>24.000000</td>\n",
              "      <td>66.599998</td>\n",
              "      <td>20.200001</td>\n",
              "      <td>17.057500</td>\n",
              "      <td>10.126591</td>\n",
              "      <td>1.830980</td>\n",
              "      <td>6.501290</td>\n",
              "    </tr>\n",
              "    <tr>\n",
              "      <th>max</th>\n",
              "      <td>50001.000000</td>\n",
              "      <td>88.975998</td>\n",
              "      <td>8.710000</td>\n",
              "      <td>8.780000</td>\n",
              "      <td>12.130000</td>\n",
              "      <td>24.000000</td>\n",
              "      <td>71.099998</td>\n",
              "      <td>22.000000</td>\n",
              "      <td>39.070000</td>\n",
              "      <td>10.819798</td>\n",
              "      <td>2.164472</td>\n",
              "      <td>6.566672</td>\n",
              "    </tr>\n",
              "  </tbody>\n",
              "</table>\n",
              "</div>\n",
              "      <button class=\"colab-df-convert\" onclick=\"convertToInteractive('df-3145e988-a60d-4af5-9eb8-b2fd22abea06')\"\n",
              "              title=\"Convert this dataframe to an interactive table.\"\n",
              "              style=\"display:none;\">\n",
              "        \n",
              "  <svg xmlns=\"http://www.w3.org/2000/svg\" height=\"24px\"viewBox=\"0 0 24 24\"\n",
              "       width=\"24px\">\n",
              "    <path d=\"M0 0h24v24H0V0z\" fill=\"none\"/>\n",
              "    <path d=\"M18.56 5.44l.94 2.06.94-2.06 2.06-.94-2.06-.94-.94-2.06-.94 2.06-2.06.94zm-11 1L8.5 8.5l.94-2.06 2.06-.94-2.06-.94L8.5 2.5l-.94 2.06-2.06.94zm10 10l.94 2.06.94-2.06 2.06-.94-2.06-.94-.94-2.06-.94 2.06-2.06.94z\"/><path d=\"M17.41 7.96l-1.37-1.37c-.4-.4-.92-.59-1.43-.59-.52 0-1.04.2-1.43.59L10.3 9.45l-7.72 7.72c-.78.78-.78 2.05 0 2.83L4 21.41c.39.39.9.59 1.41.59.51 0 1.02-.2 1.41-.59l7.78-7.78 2.81-2.81c.8-.78.8-2.07 0-2.86zM5.41 20L4 18.59l7.72-7.72 1.47 1.35L5.41 20z\"/>\n",
              "  </svg>\n",
              "      </button>\n",
              "      \n",
              "  <style>\n",
              "    .colab-df-container {\n",
              "      display:flex;\n",
              "      flex-wrap:wrap;\n",
              "      gap: 12px;\n",
              "    }\n",
              "\n",
              "    .colab-df-convert {\n",
              "      background-color: #E8F0FE;\n",
              "      border: none;\n",
              "      border-radius: 50%;\n",
              "      cursor: pointer;\n",
              "      display: none;\n",
              "      fill: #1967D2;\n",
              "      height: 32px;\n",
              "      padding: 0 0 0 0;\n",
              "      width: 32px;\n",
              "    }\n",
              "\n",
              "    .colab-df-convert:hover {\n",
              "      background-color: #E2EBFA;\n",
              "      box-shadow: 0px 1px 2px rgba(60, 64, 67, 0.3), 0px 1px 3px 1px rgba(60, 64, 67, 0.15);\n",
              "      fill: #174EA6;\n",
              "    }\n",
              "\n",
              "    [theme=dark] .colab-df-convert {\n",
              "      background-color: #3B4455;\n",
              "      fill: #D2E3FC;\n",
              "    }\n",
              "\n",
              "    [theme=dark] .colab-df-convert:hover {\n",
              "      background-color: #434B5C;\n",
              "      box-shadow: 0px 1px 3px 1px rgba(0, 0, 0, 0.15);\n",
              "      filter: drop-shadow(0px 1px 2px rgba(0, 0, 0, 0.3));\n",
              "      fill: #FFFFFF;\n",
              "    }\n",
              "  </style>\n",
              "\n",
              "      <script>\n",
              "        const buttonEl =\n",
              "          document.querySelector('#df-3145e988-a60d-4af5-9eb8-b2fd22abea06 button.colab-df-convert');\n",
              "        buttonEl.style.display =\n",
              "          google.colab.kernel.accessAllowed ? 'block' : 'none';\n",
              "\n",
              "        async function convertToInteractive(key) {\n",
              "          const element = document.querySelector('#df-3145e988-a60d-4af5-9eb8-b2fd22abea06');\n",
              "          const dataTable =\n",
              "            await google.colab.kernel.invokeFunction('convertToInteractive',\n",
              "                                                     [key], {});\n",
              "          if (!dataTable) return;\n",
              "\n",
              "          const docLinkHtml = 'Like what you see? Visit the ' +\n",
              "            '<a target=\"_blank\" href=https://colab.research.google.com/notebooks/data_table.ipynb>data table notebook</a>'\n",
              "            + ' to learn more about interactive tables.';\n",
              "          element.innerHTML = '';\n",
              "          dataTable['output_type'] = 'display_data';\n",
              "          await google.colab.output.renderOutput(dataTable, element);\n",
              "          const docLink = document.createElement('div');\n",
              "          docLink.innerHTML = docLinkHtml;\n",
              "          element.appendChild(docLink);\n",
              "        }\n",
              "      </script>\n",
              "    </div>\n",
              "  </div>\n",
              "  "
            ]
          },
          "metadata": {},
          "execution_count": 24
        }
      ]
    },
    {
      "cell_type": "code",
      "source": [
        "type(hprice2)"
      ],
      "metadata": {
        "colab": {
          "base_uri": "https://localhost:8080/"
        },
        "id": "xPiVcFZAzh1t",
        "outputId": "13c6cc42-989d-4c1e-9367-eecdfa4cf64b"
      },
      "execution_count": 5,
      "outputs": [
        {
          "output_type": "execute_result",
          "data": {
            "text/plain": [
              "pandas.core.frame.DataFrame"
            ]
          },
          "metadata": {},
          "execution_count": 5
        }
      ]
    },
    {
      "cell_type": "code",
      "source": [
        "# We impose a simple, linear, model: \n",
        "# We specify CeoSalaries as the empirical dataset\n",
        "\n",
        "reg = smf.ols(formula='np.log(price) ~ np.log(nox)+np.log(dist)+rooms+np.power(rooms,2)+stratio', data=hprice2)"
      ],
      "metadata": {
        "id": "xNYUa6c-0ZYd"
      },
      "execution_count": 26,
      "outputs": []
    },
    {
      "cell_type": "code",
      "source": [
        "# We fit the model\n",
        "results = reg.fit()\n"
      ],
      "metadata": {
        "id": "ykd6_iLT0AU_"
      },
      "execution_count": 27,
      "outputs": []
    },
    {
      "cell_type": "code",
      "source": [
        "b = results.params\n",
        "print(f'b: \\n{b}\\n')"
      ],
      "metadata": {
        "colab": {
          "base_uri": "https://localhost:8080/"
        },
        "id": "6C-KSKSJ0eJL",
        "outputId": "1b4deb42-b329-4b56-e3e2-56724c2b221c"
      },
      "execution_count": 28,
      "outputs": [
        {
          "output_type": "stream",
          "name": "stdout",
          "text": [
            "b: \n",
            "Intercept             13.385477\n",
            "np.log(nox)           -0.901682\n",
            "np.log(dist)          -0.086781\n",
            "rooms                 -0.545113\n",
            "np.power(rooms, 2)     0.062261\n",
            "stratio               -0.047590\n",
            "dtype: float64\n",
            "\n"
          ]
        }
      ]
    },
    {
      "cell_type": "markdown",
      "source": [
        "## Based on the previous we have fitted the following model:\n",
        "\n",
        "$ log(price)=13.39-0.902*log(nox)-0.087*log(dist)-0.545*rooms+0.062*rooms^2-0.047stratio+u $\n"
      ],
      "metadata": {
        "id": "TD99-pf-1RVu"
      }
    },
    {
      "cell_type": "markdown",
      "source": [
        "## Let's compute t-tests of statistical significance and F-test of overall statistical significance"
      ],
      "metadata": {
        "id": "jVu7UD2ZpFCJ"
      }
    },
    {
      "cell_type": "code",
      "source": [
        "print(results.summary())"
      ],
      "metadata": {
        "colab": {
          "base_uri": "https://localhost:8080/"
        },
        "id": "6ZvytzG-pN_E",
        "outputId": "4ba5b6b0-7af8-4456-8156-54f1092e068b"
      },
      "execution_count": 30,
      "outputs": [
        {
          "output_type": "stream",
          "name": "stdout",
          "text": [
            "                            OLS Regression Results                            \n",
            "==============================================================================\n",
            "Dep. Variable:          np.log(price)   R-squared:                       0.603\n",
            "Model:                            OLS   Adj. R-squared:                  0.599\n",
            "Method:                 Least Squares   F-statistic:                     151.8\n",
            "Date:                Fri, 18 Nov 2022   Prob (F-statistic):           7.89e-98\n",
            "Time:                        16:49:28   Log-Likelihood:                -31.806\n",
            "No. Observations:                 506   AIC:                             75.61\n",
            "Df Residuals:                     500   BIC:                             101.0\n",
            "Df Model:                           5                                         \n",
            "Covariance Type:            nonrobust                                         \n",
            "======================================================================================\n",
            "                         coef    std err          t      P>|t|      [0.025      0.975]\n",
            "--------------------------------------------------------------------------------------\n",
            "Intercept             13.3855      0.566     23.630      0.000      12.273      14.498\n",
            "np.log(nox)           -0.9017      0.115     -7.862      0.000      -1.127      -0.676\n",
            "np.log(dist)          -0.0868      0.043     -2.005      0.045      -0.172      -0.002\n",
            "rooms                 -0.5451      0.165     -3.295      0.001      -0.870      -0.220\n",
            "np.power(rooms, 2)     0.0623      0.013      4.862      0.000       0.037       0.087\n",
            "stratio               -0.0476      0.006     -8.129      0.000      -0.059      -0.036\n",
            "==============================================================================\n",
            "Omnibus:                       56.649   Durbin-Watson:                   0.691\n",
            "Prob(Omnibus):                  0.000   Jarque-Bera (JB):              384.168\n",
            "Skew:                          -0.100   Prob(JB):                     3.79e-84\n",
            "Kurtosis:                       7.264   Cond. No.                     2.30e+03\n",
            "==============================================================================\n",
            "\n",
            "Notes:\n",
            "[1] Standard Errors assume that the covariance matrix of the errors is correctly specified.\n",
            "[2] The condition number is large, 2.3e+03. This might indicate that there are\n",
            "strong multicollinearity or other numerical problems.\n"
          ]
        }
      ]
    },
    {
      "cell_type": "markdown",
      "source": [
        "### The F-statistic of overall significance (151.8) and its low p-value (7.89e-98) means that the model is significant.\n",
        "\n",
        "### According to the t-statics and related p-values, all explanatory variables are significant.\n",
        "### The R-squared is moderately large (0.603) specially for an econometric dataset."
      ],
      "metadata": {
        "id": "32BkXMahpora"
      }
    },
    {
      "cell_type": "markdown",
      "source": [
        "## How do we interpret the equation?\n",
        "\n",
        "#### This estimated equation implies that nox, distance to employment centers and student teacher ratio have negative effects on house prices.\n",
        "\n",
        "#### 1% increase in nox decreases house prices by 0.902%\n",
        "\n",
        "#### A unit increase in the student/teacher ratio (stratio) decreases house prices by 4.7%.\n",
        "\n",
        "#### An increase in rooms from five to six increases price by about -54.5+12.4(5)=7.5%\n",
        "#### An increase in rooms from six to seven increases price by about -54.5+12.4(6)=19.9%. This is a very strong increasing effect."
      ],
      "metadata": {
        "id": "gXrsythK1wue"
      }
    },
    {
      "cell_type": "code",
      "source": [],
      "metadata": {
        "id": "1fBOOj2_jKyi"
      },
      "execution_count": null,
      "outputs": []
    },
    {
      "cell_type": "markdown",
      "source": [
        "# Feel free to improve the model by adding additional regressors and other functional forms"
      ],
      "metadata": {
        "id": "ig8thPXsto73"
      }
    },
    {
      "cell_type": "code",
      "source": [],
      "metadata": {
        "id": "xIMkXwBctyGj"
      },
      "execution_count": null,
      "outputs": []
    }
  ]
}