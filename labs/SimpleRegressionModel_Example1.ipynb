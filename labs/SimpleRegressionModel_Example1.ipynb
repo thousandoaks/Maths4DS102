{
  "nbformat": 4,
  "nbformat_minor": 0,
  "metadata": {
    "colab": {
      "provenance": [],
      "authorship_tag": "ABX9TyNUDbkbhhAauDhgB1h+uwK+"
    },
    "kernelspec": {
      "name": "python3",
      "display_name": "Python 3"
    },
    "language_info": {
      "name": "python"
    }
  },
  "cells": [
    {
      "cell_type": "markdown",
      "source": [
        "# The Simple Regression Model"
      ],
      "metadata": {
        "id": "9Koy8IdCva-p"
      }
    },
    {
      "cell_type": "markdown",
      "source": [
        "### Intro and objectives\n",
        "#### review continuous distributions\n",
        "### review methods to explore the distribution of continuous data\n",
        "\n",
        "### In this lab you will learn:\n",
        "1. examples of simple regression models.\n",
        "2. how to fit simple regression models in Python.\n",
        "\n",
        "\n",
        "## What I hope you'll get out of this lab\n",
        "* The feeling that you'll \"know where to start\" when you need to fit a simple regression model.\n",
        "* Examples of simple regression models\n",
        "* How to interpret the results obtained"
      ],
      "metadata": {
        "id": "DiOUGkzJvkIq"
      }
    },
    {
      "cell_type": "code",
      "execution_count": 26,
      "metadata": {
        "colab": {
          "base_uri": "https://localhost:8080/"
        },
        "id": "31p3EWLtvZq_",
        "outputId": "4d9cde93-f202-4df4-e0f2-452ee68654a4"
      },
      "outputs": [
        {
          "output_type": "stream",
          "name": "stdout",
          "text": [
            "Looking in indexes: https://pypi.org/simple, https://us-python.pkg.dev/colab-wheels/public/simple/\n",
            "Requirement already satisfied: wooldridge in /usr/local/lib/python3.7/dist-packages (0.4.4)\n",
            "Requirement already satisfied: pandas in /usr/local/lib/python3.7/dist-packages (from wooldridge) (1.3.5)\n",
            "Requirement already satisfied: python-dateutil>=2.7.3 in /usr/local/lib/python3.7/dist-packages (from pandas->wooldridge) (2.8.2)\n",
            "Requirement already satisfied: numpy>=1.17.3 in /usr/local/lib/python3.7/dist-packages (from pandas->wooldridge) (1.21.6)\n",
            "Requirement already satisfied: pytz>=2017.3 in /usr/local/lib/python3.7/dist-packages (from pandas->wooldridge) (2022.6)\n",
            "Requirement already satisfied: six>=1.5 in /usr/local/lib/python3.7/dist-packages (from python-dateutil>=2.7.3->pandas->wooldridge) (1.15.0)\n"
          ]
        }
      ],
      "source": [
        "!pip install wooldridge\n",
        "import wooldridge as woo\n",
        "import statsmodels.formula.api as smf\n",
        "import matplotlib.pyplot as plt\n",
        "import seaborn as sns"
      ]
    },
    {
      "cell_type": "markdown",
      "source": [
        "# Example 1. CEO Salary and Return on Equity\n",
        "\n"
      ],
      "metadata": {
        "id": "aEHpzweDwqTa"
      }
    },
    {
      "cell_type": "markdown",
      "source": [
        "### For the population of chief executive officers, let y be annual salary (salary) in thousands of dollars.\n",
        "### Thus, y=856.3 indicates an annual salary of 856,300 dollars, and y=1,452.6 indicates a salary of 1,452,600 dollars.\n",
        "\n",
        "\n",
        "### Let x be the average return on equity (roe) for the CEO’s firm for the previous three years. (Return on equity is defined in terms of net income as a percentage of common equity.) For example, if roe=10, then average return on equity is 10%.\n",
        "\n",
        "### To study the relationship between this measure of firm performance and CEO compensation, we postulate the simple model:\n",
        "\n",
        "$ salary=\\beta_0+\\beta_1*roe+u $\n",
        "\n",
        "\n",
        "### The slope parameter $ \\beta_1 $ measures the change in annual salary, in thousands of dollars, when return on equity increases by one percentage point."
      ],
      "metadata": {
        "id": "qHmLOQ7MxEbJ"
      }
    },
    {
      "cell_type": "markdown",
      "source": [
        "### The data set CEOSAL1 contains information on 209 CEOs for the year 1990; these data were obtained from Business Week (5/6/91). In this sample, the average annual salary is 1,281,120 dollars with the smallest and largest being 223,000 dollars and 14,822,000 dollars respectively. \n",
        "### The average return on equity for the years 1988, 1989, and 1990 is 17.18%, with the smallest and largest values being 0.5% and 56.3%, respectively."
      ],
      "metadata": {
        "id": "D1fR69Bky4iO"
      }
    },
    {
      "cell_type": "markdown",
      "source": [
        "### Using the data in CEOSAL1, the OLS regression line relating salary to roe is:"
      ],
      "metadata": {
        "id": "x1IiBAcCzTGh"
      }
    },
    {
      "cell_type": "code",
      "source": [
        "CeoSalaries = woo.dataWoo('ceosal1')"
      ],
      "metadata": {
        "id": "2ma8vEoPxGI_"
      },
      "execution_count": 27,
      "outputs": []
    },
    {
      "cell_type": "code",
      "source": [
        "CeoSalaries.head()"
      ],
      "metadata": {
        "colab": {
          "base_uri": "https://localhost:8080/",
          "height": 206
        },
        "id": "uNliv4ZZ0OeX",
        "outputId": "13be4e38-7a18-4df6-fe71-d91bc49f02fd"
      },
      "execution_count": 28,
      "outputs": [
        {
          "output_type": "execute_result",
          "data": {
            "text/plain": [
              "   salary  pcsalary         sales   roe       pcroe  ros  indus  finance  \\\n",
              "0    1095        20  27595.000000  14.1  106.400002  191      1        0   \n",
              "1    1001        32   9958.000000  10.9  -30.600000   13      1        0   \n",
              "2    1122         9   6125.899902  23.5  -16.299999   14      1        0   \n",
              "3     578        -9  16246.000000   5.9  -25.700001  -21      1        0   \n",
              "4    1368         7  21783.199219  13.8   -3.000000   56      1        0   \n",
              "\n",
              "   consprod  utility   lsalary     lsales  \n",
              "0         0        0  6.998509  10.225389  \n",
              "1         0        0  6.908755   9.206132  \n",
              "2         0        0  7.022868   8.720281  \n",
              "3         0        0  6.359574   9.695602  \n",
              "4         0        0  7.221105   9.988894  "
            ],
            "text/html": [
              "\n",
              "  <div id=\"df-6960ed13-15d7-445f-b8ec-29416e51a84a\">\n",
              "    <div class=\"colab-df-container\">\n",
              "      <div>\n",
              "<style scoped>\n",
              "    .dataframe tbody tr th:only-of-type {\n",
              "        vertical-align: middle;\n",
              "    }\n",
              "\n",
              "    .dataframe tbody tr th {\n",
              "        vertical-align: top;\n",
              "    }\n",
              "\n",
              "    .dataframe thead th {\n",
              "        text-align: right;\n",
              "    }\n",
              "</style>\n",
              "<table border=\"1\" class=\"dataframe\">\n",
              "  <thead>\n",
              "    <tr style=\"text-align: right;\">\n",
              "      <th></th>\n",
              "      <th>salary</th>\n",
              "      <th>pcsalary</th>\n",
              "      <th>sales</th>\n",
              "      <th>roe</th>\n",
              "      <th>pcroe</th>\n",
              "      <th>ros</th>\n",
              "      <th>indus</th>\n",
              "      <th>finance</th>\n",
              "      <th>consprod</th>\n",
              "      <th>utility</th>\n",
              "      <th>lsalary</th>\n",
              "      <th>lsales</th>\n",
              "    </tr>\n",
              "  </thead>\n",
              "  <tbody>\n",
              "    <tr>\n",
              "      <th>0</th>\n",
              "      <td>1095</td>\n",
              "      <td>20</td>\n",
              "      <td>27595.000000</td>\n",
              "      <td>14.1</td>\n",
              "      <td>106.400002</td>\n",
              "      <td>191</td>\n",
              "      <td>1</td>\n",
              "      <td>0</td>\n",
              "      <td>0</td>\n",
              "      <td>0</td>\n",
              "      <td>6.998509</td>\n",
              "      <td>10.225389</td>\n",
              "    </tr>\n",
              "    <tr>\n",
              "      <th>1</th>\n",
              "      <td>1001</td>\n",
              "      <td>32</td>\n",
              "      <td>9958.000000</td>\n",
              "      <td>10.9</td>\n",
              "      <td>-30.600000</td>\n",
              "      <td>13</td>\n",
              "      <td>1</td>\n",
              "      <td>0</td>\n",
              "      <td>0</td>\n",
              "      <td>0</td>\n",
              "      <td>6.908755</td>\n",
              "      <td>9.206132</td>\n",
              "    </tr>\n",
              "    <tr>\n",
              "      <th>2</th>\n",
              "      <td>1122</td>\n",
              "      <td>9</td>\n",
              "      <td>6125.899902</td>\n",
              "      <td>23.5</td>\n",
              "      <td>-16.299999</td>\n",
              "      <td>14</td>\n",
              "      <td>1</td>\n",
              "      <td>0</td>\n",
              "      <td>0</td>\n",
              "      <td>0</td>\n",
              "      <td>7.022868</td>\n",
              "      <td>8.720281</td>\n",
              "    </tr>\n",
              "    <tr>\n",
              "      <th>3</th>\n",
              "      <td>578</td>\n",
              "      <td>-9</td>\n",
              "      <td>16246.000000</td>\n",
              "      <td>5.9</td>\n",
              "      <td>-25.700001</td>\n",
              "      <td>-21</td>\n",
              "      <td>1</td>\n",
              "      <td>0</td>\n",
              "      <td>0</td>\n",
              "      <td>0</td>\n",
              "      <td>6.359574</td>\n",
              "      <td>9.695602</td>\n",
              "    </tr>\n",
              "    <tr>\n",
              "      <th>4</th>\n",
              "      <td>1368</td>\n",
              "      <td>7</td>\n",
              "      <td>21783.199219</td>\n",
              "      <td>13.8</td>\n",
              "      <td>-3.000000</td>\n",
              "      <td>56</td>\n",
              "      <td>1</td>\n",
              "      <td>0</td>\n",
              "      <td>0</td>\n",
              "      <td>0</td>\n",
              "      <td>7.221105</td>\n",
              "      <td>9.988894</td>\n",
              "    </tr>\n",
              "  </tbody>\n",
              "</table>\n",
              "</div>\n",
              "      <button class=\"colab-df-convert\" onclick=\"convertToInteractive('df-6960ed13-15d7-445f-b8ec-29416e51a84a')\"\n",
              "              title=\"Convert this dataframe to an interactive table.\"\n",
              "              style=\"display:none;\">\n",
              "        \n",
              "  <svg xmlns=\"http://www.w3.org/2000/svg\" height=\"24px\"viewBox=\"0 0 24 24\"\n",
              "       width=\"24px\">\n",
              "    <path d=\"M0 0h24v24H0V0z\" fill=\"none\"/>\n",
              "    <path d=\"M18.56 5.44l.94 2.06.94-2.06 2.06-.94-2.06-.94-.94-2.06-.94 2.06-2.06.94zm-11 1L8.5 8.5l.94-2.06 2.06-.94-2.06-.94L8.5 2.5l-.94 2.06-2.06.94zm10 10l.94 2.06.94-2.06 2.06-.94-2.06-.94-.94-2.06-.94 2.06-2.06.94z\"/><path d=\"M17.41 7.96l-1.37-1.37c-.4-.4-.92-.59-1.43-.59-.52 0-1.04.2-1.43.59L10.3 9.45l-7.72 7.72c-.78.78-.78 2.05 0 2.83L4 21.41c.39.39.9.59 1.41.59.51 0 1.02-.2 1.41-.59l7.78-7.78 2.81-2.81c.8-.78.8-2.07 0-2.86zM5.41 20L4 18.59l7.72-7.72 1.47 1.35L5.41 20z\"/>\n",
              "  </svg>\n",
              "      </button>\n",
              "      \n",
              "  <style>\n",
              "    .colab-df-container {\n",
              "      display:flex;\n",
              "      flex-wrap:wrap;\n",
              "      gap: 12px;\n",
              "    }\n",
              "\n",
              "    .colab-df-convert {\n",
              "      background-color: #E8F0FE;\n",
              "      border: none;\n",
              "      border-radius: 50%;\n",
              "      cursor: pointer;\n",
              "      display: none;\n",
              "      fill: #1967D2;\n",
              "      height: 32px;\n",
              "      padding: 0 0 0 0;\n",
              "      width: 32px;\n",
              "    }\n",
              "\n",
              "    .colab-df-convert:hover {\n",
              "      background-color: #E2EBFA;\n",
              "      box-shadow: 0px 1px 2px rgba(60, 64, 67, 0.3), 0px 1px 3px 1px rgba(60, 64, 67, 0.15);\n",
              "      fill: #174EA6;\n",
              "    }\n",
              "\n",
              "    [theme=dark] .colab-df-convert {\n",
              "      background-color: #3B4455;\n",
              "      fill: #D2E3FC;\n",
              "    }\n",
              "\n",
              "    [theme=dark] .colab-df-convert:hover {\n",
              "      background-color: #434B5C;\n",
              "      box-shadow: 0px 1px 3px 1px rgba(0, 0, 0, 0.15);\n",
              "      filter: drop-shadow(0px 1px 2px rgba(0, 0, 0, 0.3));\n",
              "      fill: #FFFFFF;\n",
              "    }\n",
              "  </style>\n",
              "\n",
              "      <script>\n",
              "        const buttonEl =\n",
              "          document.querySelector('#df-6960ed13-15d7-445f-b8ec-29416e51a84a button.colab-df-convert');\n",
              "        buttonEl.style.display =\n",
              "          google.colab.kernel.accessAllowed ? 'block' : 'none';\n",
              "\n",
              "        async function convertToInteractive(key) {\n",
              "          const element = document.querySelector('#df-6960ed13-15d7-445f-b8ec-29416e51a84a');\n",
              "          const dataTable =\n",
              "            await google.colab.kernel.invokeFunction('convertToInteractive',\n",
              "                                                     [key], {});\n",
              "          if (!dataTable) return;\n",
              "\n",
              "          const docLinkHtml = 'Like what you see? Visit the ' +\n",
              "            '<a target=\"_blank\" href=https://colab.research.google.com/notebooks/data_table.ipynb>data table notebook</a>'\n",
              "            + ' to learn more about interactive tables.';\n",
              "          element.innerHTML = '';\n",
              "          dataTable['output_type'] = 'display_data';\n",
              "          await google.colab.output.renderOutput(dataTable, element);\n",
              "          const docLink = document.createElement('div');\n",
              "          docLink.innerHTML = docLinkHtml;\n",
              "          element.appendChild(docLink);\n",
              "        }\n",
              "      </script>\n",
              "    </div>\n",
              "  </div>\n",
              "  "
            ]
          },
          "metadata": {},
          "execution_count": 28
        }
      ]
    },
    {
      "cell_type": "code",
      "source": [
        "CeoSalaries.describe()"
      ],
      "metadata": {
        "colab": {
          "base_uri": "https://localhost:8080/",
          "height": 300
        },
        "id": "q-2EAruT0SPq",
        "outputId": "fa5945a9-be3c-4d60-d03b-a7c289a03d7c"
      },
      "execution_count": 29,
      "outputs": [
        {
          "output_type": "execute_result",
          "data": {
            "text/plain": [
              "             salary    pcsalary         sales         roe       pcroe  \\\n",
              "count    209.000000  209.000000    209.000000  209.000000  209.000000   \n",
              "mean    1281.119617   13.282297   6923.793282   17.184211   10.800478   \n",
              "std     1372.345308   32.633921  10633.271088    8.518509   97.219399   \n",
              "min      223.000000  -61.000000    175.199997    0.500000  -98.900002   \n",
              "25%      736.000000   -1.000000   2210.300049   12.400000  -21.200001   \n",
              "50%     1039.000000    9.000000   3705.199951   15.500000   -3.000000   \n",
              "75%     1407.000000   20.000000   7177.000000   20.000000   19.500000   \n",
              "max    14822.000000  212.000000  97649.898438   56.299999  977.000000   \n",
              "\n",
              "              ros       indus     finance    consprod     utility     lsalary  \\\n",
              "count  209.000000  209.000000  209.000000  209.000000  209.000000  209.000000   \n",
              "mean    61.803828    0.320574    0.220096    0.287081    0.172249    6.950386   \n",
              "std     68.177052    0.467818    0.415306    0.453486    0.378503    0.566374   \n",
              "min    -58.000000    0.000000    0.000000    0.000000    0.000000    5.407172   \n",
              "25%     21.000000    0.000000    0.000000    0.000000    0.000000    6.601230   \n",
              "50%     52.000000    0.000000    0.000000    0.000000    0.000000    6.946014   \n",
              "75%     81.000000    1.000000    0.000000    1.000000    0.000000    7.249215   \n",
              "max    418.000000    1.000000    1.000000    1.000000    1.000000    9.603868   \n",
              "\n",
              "           lsales  \n",
              "count  209.000000  \n",
              "mean     8.292265  \n",
              "std      1.013161  \n",
              "min      5.165928  \n",
              "25%      7.700883  \n",
              "50%      8.217492  \n",
              "75%      8.878636  \n",
              "max     11.489144  "
            ],
            "text/html": [
              "\n",
              "  <div id=\"df-fdc50581-66c3-49c6-8e9d-0df437f38a8f\">\n",
              "    <div class=\"colab-df-container\">\n",
              "      <div>\n",
              "<style scoped>\n",
              "    .dataframe tbody tr th:only-of-type {\n",
              "        vertical-align: middle;\n",
              "    }\n",
              "\n",
              "    .dataframe tbody tr th {\n",
              "        vertical-align: top;\n",
              "    }\n",
              "\n",
              "    .dataframe thead th {\n",
              "        text-align: right;\n",
              "    }\n",
              "</style>\n",
              "<table border=\"1\" class=\"dataframe\">\n",
              "  <thead>\n",
              "    <tr style=\"text-align: right;\">\n",
              "      <th></th>\n",
              "      <th>salary</th>\n",
              "      <th>pcsalary</th>\n",
              "      <th>sales</th>\n",
              "      <th>roe</th>\n",
              "      <th>pcroe</th>\n",
              "      <th>ros</th>\n",
              "      <th>indus</th>\n",
              "      <th>finance</th>\n",
              "      <th>consprod</th>\n",
              "      <th>utility</th>\n",
              "      <th>lsalary</th>\n",
              "      <th>lsales</th>\n",
              "    </tr>\n",
              "  </thead>\n",
              "  <tbody>\n",
              "    <tr>\n",
              "      <th>count</th>\n",
              "      <td>209.000000</td>\n",
              "      <td>209.000000</td>\n",
              "      <td>209.000000</td>\n",
              "      <td>209.000000</td>\n",
              "      <td>209.000000</td>\n",
              "      <td>209.000000</td>\n",
              "      <td>209.000000</td>\n",
              "      <td>209.000000</td>\n",
              "      <td>209.000000</td>\n",
              "      <td>209.000000</td>\n",
              "      <td>209.000000</td>\n",
              "      <td>209.000000</td>\n",
              "    </tr>\n",
              "    <tr>\n",
              "      <th>mean</th>\n",
              "      <td>1281.119617</td>\n",
              "      <td>13.282297</td>\n",
              "      <td>6923.793282</td>\n",
              "      <td>17.184211</td>\n",
              "      <td>10.800478</td>\n",
              "      <td>61.803828</td>\n",
              "      <td>0.320574</td>\n",
              "      <td>0.220096</td>\n",
              "      <td>0.287081</td>\n",
              "      <td>0.172249</td>\n",
              "      <td>6.950386</td>\n",
              "      <td>8.292265</td>\n",
              "    </tr>\n",
              "    <tr>\n",
              "      <th>std</th>\n",
              "      <td>1372.345308</td>\n",
              "      <td>32.633921</td>\n",
              "      <td>10633.271088</td>\n",
              "      <td>8.518509</td>\n",
              "      <td>97.219399</td>\n",
              "      <td>68.177052</td>\n",
              "      <td>0.467818</td>\n",
              "      <td>0.415306</td>\n",
              "      <td>0.453486</td>\n",
              "      <td>0.378503</td>\n",
              "      <td>0.566374</td>\n",
              "      <td>1.013161</td>\n",
              "    </tr>\n",
              "    <tr>\n",
              "      <th>min</th>\n",
              "      <td>223.000000</td>\n",
              "      <td>-61.000000</td>\n",
              "      <td>175.199997</td>\n",
              "      <td>0.500000</td>\n",
              "      <td>-98.900002</td>\n",
              "      <td>-58.000000</td>\n",
              "      <td>0.000000</td>\n",
              "      <td>0.000000</td>\n",
              "      <td>0.000000</td>\n",
              "      <td>0.000000</td>\n",
              "      <td>5.407172</td>\n",
              "      <td>5.165928</td>\n",
              "    </tr>\n",
              "    <tr>\n",
              "      <th>25%</th>\n",
              "      <td>736.000000</td>\n",
              "      <td>-1.000000</td>\n",
              "      <td>2210.300049</td>\n",
              "      <td>12.400000</td>\n",
              "      <td>-21.200001</td>\n",
              "      <td>21.000000</td>\n",
              "      <td>0.000000</td>\n",
              "      <td>0.000000</td>\n",
              "      <td>0.000000</td>\n",
              "      <td>0.000000</td>\n",
              "      <td>6.601230</td>\n",
              "      <td>7.700883</td>\n",
              "    </tr>\n",
              "    <tr>\n",
              "      <th>50%</th>\n",
              "      <td>1039.000000</td>\n",
              "      <td>9.000000</td>\n",
              "      <td>3705.199951</td>\n",
              "      <td>15.500000</td>\n",
              "      <td>-3.000000</td>\n",
              "      <td>52.000000</td>\n",
              "      <td>0.000000</td>\n",
              "      <td>0.000000</td>\n",
              "      <td>0.000000</td>\n",
              "      <td>0.000000</td>\n",
              "      <td>6.946014</td>\n",
              "      <td>8.217492</td>\n",
              "    </tr>\n",
              "    <tr>\n",
              "      <th>75%</th>\n",
              "      <td>1407.000000</td>\n",
              "      <td>20.000000</td>\n",
              "      <td>7177.000000</td>\n",
              "      <td>20.000000</td>\n",
              "      <td>19.500000</td>\n",
              "      <td>81.000000</td>\n",
              "      <td>1.000000</td>\n",
              "      <td>0.000000</td>\n",
              "      <td>1.000000</td>\n",
              "      <td>0.000000</td>\n",
              "      <td>7.249215</td>\n",
              "      <td>8.878636</td>\n",
              "    </tr>\n",
              "    <tr>\n",
              "      <th>max</th>\n",
              "      <td>14822.000000</td>\n",
              "      <td>212.000000</td>\n",
              "      <td>97649.898438</td>\n",
              "      <td>56.299999</td>\n",
              "      <td>977.000000</td>\n",
              "      <td>418.000000</td>\n",
              "      <td>1.000000</td>\n",
              "      <td>1.000000</td>\n",
              "      <td>1.000000</td>\n",
              "      <td>1.000000</td>\n",
              "      <td>9.603868</td>\n",
              "      <td>11.489144</td>\n",
              "    </tr>\n",
              "  </tbody>\n",
              "</table>\n",
              "</div>\n",
              "      <button class=\"colab-df-convert\" onclick=\"convertToInteractive('df-fdc50581-66c3-49c6-8e9d-0df437f38a8f')\"\n",
              "              title=\"Convert this dataframe to an interactive table.\"\n",
              "              style=\"display:none;\">\n",
              "        \n",
              "  <svg xmlns=\"http://www.w3.org/2000/svg\" height=\"24px\"viewBox=\"0 0 24 24\"\n",
              "       width=\"24px\">\n",
              "    <path d=\"M0 0h24v24H0V0z\" fill=\"none\"/>\n",
              "    <path d=\"M18.56 5.44l.94 2.06.94-2.06 2.06-.94-2.06-.94-.94-2.06-.94 2.06-2.06.94zm-11 1L8.5 8.5l.94-2.06 2.06-.94-2.06-.94L8.5 2.5l-.94 2.06-2.06.94zm10 10l.94 2.06.94-2.06 2.06-.94-2.06-.94-.94-2.06-.94 2.06-2.06.94z\"/><path d=\"M17.41 7.96l-1.37-1.37c-.4-.4-.92-.59-1.43-.59-.52 0-1.04.2-1.43.59L10.3 9.45l-7.72 7.72c-.78.78-.78 2.05 0 2.83L4 21.41c.39.39.9.59 1.41.59.51 0 1.02-.2 1.41-.59l7.78-7.78 2.81-2.81c.8-.78.8-2.07 0-2.86zM5.41 20L4 18.59l7.72-7.72 1.47 1.35L5.41 20z\"/>\n",
              "  </svg>\n",
              "      </button>\n",
              "      \n",
              "  <style>\n",
              "    .colab-df-container {\n",
              "      display:flex;\n",
              "      flex-wrap:wrap;\n",
              "      gap: 12px;\n",
              "    }\n",
              "\n",
              "    .colab-df-convert {\n",
              "      background-color: #E8F0FE;\n",
              "      border: none;\n",
              "      border-radius: 50%;\n",
              "      cursor: pointer;\n",
              "      display: none;\n",
              "      fill: #1967D2;\n",
              "      height: 32px;\n",
              "      padding: 0 0 0 0;\n",
              "      width: 32px;\n",
              "    }\n",
              "\n",
              "    .colab-df-convert:hover {\n",
              "      background-color: #E2EBFA;\n",
              "      box-shadow: 0px 1px 2px rgba(60, 64, 67, 0.3), 0px 1px 3px 1px rgba(60, 64, 67, 0.15);\n",
              "      fill: #174EA6;\n",
              "    }\n",
              "\n",
              "    [theme=dark] .colab-df-convert {\n",
              "      background-color: #3B4455;\n",
              "      fill: #D2E3FC;\n",
              "    }\n",
              "\n",
              "    [theme=dark] .colab-df-convert:hover {\n",
              "      background-color: #434B5C;\n",
              "      box-shadow: 0px 1px 3px 1px rgba(0, 0, 0, 0.15);\n",
              "      filter: drop-shadow(0px 1px 2px rgba(0, 0, 0, 0.3));\n",
              "      fill: #FFFFFF;\n",
              "    }\n",
              "  </style>\n",
              "\n",
              "      <script>\n",
              "        const buttonEl =\n",
              "          document.querySelector('#df-fdc50581-66c3-49c6-8e9d-0df437f38a8f button.colab-df-convert');\n",
              "        buttonEl.style.display =\n",
              "          google.colab.kernel.accessAllowed ? 'block' : 'none';\n",
              "\n",
              "        async function convertToInteractive(key) {\n",
              "          const element = document.querySelector('#df-fdc50581-66c3-49c6-8e9d-0df437f38a8f');\n",
              "          const dataTable =\n",
              "            await google.colab.kernel.invokeFunction('convertToInteractive',\n",
              "                                                     [key], {});\n",
              "          if (!dataTable) return;\n",
              "\n",
              "          const docLinkHtml = 'Like what you see? Visit the ' +\n",
              "            '<a target=\"_blank\" href=https://colab.research.google.com/notebooks/data_table.ipynb>data table notebook</a>'\n",
              "            + ' to learn more about interactive tables.';\n",
              "          element.innerHTML = '';\n",
              "          dataTable['output_type'] = 'display_data';\n",
              "          await google.colab.output.renderOutput(dataTable, element);\n",
              "          const docLink = document.createElement('div');\n",
              "          docLink.innerHTML = docLinkHtml;\n",
              "          element.appendChild(docLink);\n",
              "        }\n",
              "      </script>\n",
              "    </div>\n",
              "  </div>\n",
              "  "
            ]
          },
          "metadata": {},
          "execution_count": 29
        }
      ]
    },
    {
      "cell_type": "code",
      "source": [
        "type(CeoSalaries)"
      ],
      "metadata": {
        "colab": {
          "base_uri": "https://localhost:8080/"
        },
        "id": "xPiVcFZAzh1t",
        "outputId": "5d31a088-c9dd-4af2-9de7-67a23a1e79d4"
      },
      "execution_count": 30,
      "outputs": [
        {
          "output_type": "execute_result",
          "data": {
            "text/plain": [
              "pandas.core.frame.DataFrame"
            ]
          },
          "metadata": {},
          "execution_count": 30
        }
      ]
    },
    {
      "cell_type": "code",
      "source": [
        "# We impose a simple, linear, model: \n",
        "# We specify CeoSalaries as the empirical dataset\n",
        "\n",
        "reg = smf.ols(formula='salary ~ roe', data=CeoSalaries)\n"
      ],
      "metadata": {
        "id": "xNYUa6c-0ZYd"
      },
      "execution_count": 31,
      "outputs": []
    },
    {
      "cell_type": "code",
      "source": [
        "# We fit the model\n",
        "results = reg.fit()\n"
      ],
      "metadata": {
        "id": "ykd6_iLT0AU_"
      },
      "execution_count": 32,
      "outputs": []
    },
    {
      "cell_type": "code",
      "source": [
        "b = results.params\n",
        "print(f'b: \\n{b}\\n')"
      ],
      "metadata": {
        "colab": {
          "base_uri": "https://localhost:8080/"
        },
        "id": "6C-KSKSJ0eJL",
        "outputId": "06497203-c17e-4421-dcee-19d08f07cf97"
      },
      "execution_count": 33,
      "outputs": [
        {
          "output_type": "stream",
          "name": "stdout",
          "text": [
            "b: \n",
            "Intercept    963.191336\n",
            "roe           18.501186\n",
            "dtype: float64\n",
            "\n"
          ]
        }
      ]
    },
    {
      "cell_type": "markdown",
      "source": [
        "## Based on the previous we have fitted the following model:\n",
        "\n",
        "$ salary=963.19+18.50*roe+u $\n"
      ],
      "metadata": {
        "id": "TD99-pf-1RVu"
      }
    },
    {
      "cell_type": "markdown",
      "source": [
        "## How do we interpret the equation?\n",
        "\n",
        "#### First, if the return on equity is zero, roe=0, then the predicted salary is the intercept, 963.191, which equals 963,191 dollars because salary is measured in thousands."
      ],
      "metadata": {
        "id": "gXrsythK1wue"
      }
    },
    {
      "cell_type": "markdown",
      "source": [
        "#### We can write the predicted change in salary as a function of the change in roe: $\\Delta$salary=18.50$\\Delta$roe\n",
        "\n",
        "#### This means that if the return on equity increasesby one percentage point, $\\Delta$roe=1, then salary is predicted to change by about 18.5, or 18500 dollars."
      ],
      "metadata": {
        "id": "bl0inmDr2MKy"
      }
    },
    {
      "cell_type": "code",
      "source": [
        "sns.scatterplot(data=CeoSalaries, x='roe',y='salary')\n",
        "\n",
        "sns.lineplot(data=CeoSalaries, x=CeoSalaries['roe'], y=results.fittedvalues,color='green')\n"
      ],
      "metadata": {
        "colab": {
          "base_uri": "https://localhost:8080/",
          "height": 297
        },
        "id": "VHGnaM5I3-9c",
        "outputId": "690013a4-47b6-4281-8f31-46c56ec868b1"
      },
      "execution_count": 34,
      "outputs": [
        {
          "output_type": "execute_result",
          "data": {
            "text/plain": [
              "<matplotlib.axes._subplots.AxesSubplot at 0x7fdd2fe4d390>"
            ]
          },
          "metadata": {},
          "execution_count": 34
        },
        {
          "output_type": "display_data",
          "data": {
            "text/plain": [
              "<Figure size 432x288 with 1 Axes>"
            ],
            "image/png": "[encoded data removed]"
          },
          "metadata": {
            "needs_background": "light"
          }
        }
      ]
    }
  ]
}